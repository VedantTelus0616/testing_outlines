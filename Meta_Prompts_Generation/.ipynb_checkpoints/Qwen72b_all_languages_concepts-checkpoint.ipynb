{
 "cells": [
  {
   "cell_type": "code",
   "execution_count": 1,
   "id": "f79a6e21-527f-448d-8f92-358bb930728c",
   "metadata": {
    "tags": []
   },
   "outputs": [],
   "source": [
    "import openai\n",
    "\n",
    "openai.api_base = \"https://api.aimlapi.com/\"  # use the IP or hostname of your instance\n",
    "openai.api_key = '2cd60781c98843dfa09cef598719bcd1'"
   ]
  },
  {
   "cell_type": "code",
   "execution_count": 2,
   "id": "d4f2cf3d-c79c-4635-a4a3-9ff130048a3a",
   "metadata": {
    "tags": []
   },
   "outputs": [],
   "source": [
    "def query_qwen(query_str):\n",
    "    '''\n",
    "    Given a query, prompt QWEN for results\n",
    "    \n",
    "    query_str: str\n",
    "    '''\n",
    "\n",
    "    system_content = \"You are a helpful assistant\"\n",
    "    client = openai.OpenAI(api_key = openai.api_key, base_url=openai.api_base)\n",
    "    chat_completion = client.chat.completions.create(\n",
    "        model=\"Qwen/Qwen1.5-72B-Chat\",\n",
    "        messages=[\n",
    "            {\"role\": \"system\", \"content\": system_content},\n",
    "            {\"role\": \"user\", \"content\": query_str},\n",
    "        ],\n",
    "        temperature=0.7,\n",
    "        max_tokens=4096,\n",
    "    )\n",
    "    response = chat_completion.choices[0].message.content\n",
    "    return response\n",
    "\n"
   ]
  },
  {
   "cell_type": "code",
   "execution_count": 3,
   "id": "54bbf88a-887f-4d9d-a763-4b0f69b2a2fa",
   "metadata": {
    "tags": []
   },
   "outputs": [],
   "source": [
    "L3_TASKS = [\n",
    "    \"Code synthesis\",\n",
    "\"Code retreival\",\n",
    "\"Text to SQL\",\n",
    "\"Math programming\",\n",
    "\"Code snippets & examples\",\n",
    "\"Plot generation\",\n",
    "\"Generating bash commands\",\n",
    "\"Database query generation\",\n",
    "\"UI code generation\",\n",
    "\"Configuration file generation\",\n",
    "\"Completing a function\",\n",
    "\"Completing a class\",\n",
    "\"Code infilling\",\n",
    "\"Predicting next line of code\",\n",
    "\"Autocomplete code blocks\",\n",
    "\"Variable name suggestion\",\n",
    "\"Method signature completion\",\n",
    "\"Auto-generate test cases\",\n",
    "\"Completing HTML tags\",\n",
    "\"Syntax correction\",\n",
    "\"Summarizing a file / script / repository in a paragraph (or 5 bullets)\",\n",
    "\"Automatic commenting\",\n",
    "\"Minify code\",\n",
    "\"Extracting main features of code\",\n",
    "\"Generating code abstract\",\n",
    "\"Visual code summary\",\n",
    "\"Code compression techniques\",\n",
    "\"Summarizing changes in version control\",\n",
    "\"Documentation summarization\",\n",
    "\"Inline code summarization\",\n",
    "\"Code modification (refactoring)\",\n",
    "\"Code optimization\",\n",
    "\"Code simplification\",\n",
    "\"Code search - given a bit of code, search within it\",\n",
    "\"API Mining - e.g. help generating calls for APIs\",\n",
    "\"Redundancy Removal\",\n",
    "\"Converting loops to recursion\",\n",
    "\"Refactoring for readability\",\n",
    "\"Refactoring for performance\",\n",
    "\"Standardization of code format\",\n",
    "\"Linux/Mac/Windows common CLI tasks\",\n",
    "\"CLI package management\",\n",
    "\"Software development environment config\",\n",
    "\"Automated script generation\",\n",
    "\"Environment setup automation\",\n",
    "\"CLI shortcuts\",\n",
    "\"CLI for cloud management\",\n",
    "\"CLI tools for network troubleshooting\",\n",
    "\"Command line data processing\",\n",
    "\"Shell script optimization\",\n",
    "\"Package management (for all languages)\",\n",
    "\"Code repository management\",\n",
    "\"Integration with IDEs\",\n",
    "\"Build automation\",\n",
    "\"Dependency resolution\",\n",
    "\"Cross-platform compatibility checks\",\n",
    "\"Ecosystem migration tools\",\n",
    "\"Code sharing platforms\",\n",
    "\"Collaborative coding tools\",\n",
    "\"Real-time code synchronization\",\n",
    "\"Code translation (one from language to another)\",\n",
    "\"Cross-language API usage\",\n",
    "\"Legacy code modernization\",\n",
    "\"Interoperability solutions\",\n",
    "\"Scripting to compiled code conversion\",\n",
    "\"Automatic code localization\",\n",
    "\"Platform-specific adaptations\",\n",
    "\"Framework-specific code generation\",\n",
    "\"Code porting for different OS\",\n",
    "\"Multi-language code integration\",\n",
    "\"Writing a javadoc for this function\",\n",
    "\"Generating comments based on code logic\",\n",
    "\"Automatic inline comments\",\n",
    "\"Updating outdated comments\",\n",
    "\"Generating comments for algorithms\",\n",
    "\"Comment based on code complexity\",\n",
    "\"Summarizing logical blocks with comments\",\n",
    "\"Code annotation for review\",\n",
    "\"Extracting and commenting critical sections\",\n",
    "\"Tool-generated comment consistency check\",\n",
    "\"Creating a descriptive and useful commit text for a code commit\",\n",
    "\"Automatic commit classification\",\n",
    "\"Semantic commit messaging\",\n",
    "\"Code Commit message templates\",\n",
    "\"Version control integration for commit messages\",\n",
    "\"Multi-language commit support\",\n",
    "\"Code Commit summarization for changelogs\",\n",
    "\"Context-aware commit suggestions\",\n",
    "\"Feature-specific commit messages\",\n",
    "\"Code Commit message consistency checker\",\n",
    "\"Writing a docstring\",\n",
    "\"Extended documentation with examples\",\n",
    "\"API endpoint documentation\",\n",
    "\"Function parameter details\",\n",
    "\"Error handling documentation\",\n",
    "\"Performance notes\",\n",
    "\"Usage scenarios\",\n",
    "\"Deprecation notices\",\n",
    "\"Security implications\",\n",
    "\"Compatibility notes\",\n",
    "\"Basic usage scenario\",\n",
    "\"Advanced usage scenario\",\n",
    "\"Performance critical use case\",\n",
    "\"Error handling example\",\n",
    "\"Integration with other functions\",\n",
    "\"Cross-platform usage example\",\n",
    "\"Thread safety demonstration\",\n",
    "\"Usage with optional parameters\",\n",
    "\"Deprecation alternatives\",\n",
    "\"Common pitfalls and workarounds\",\n",
    "\"Endpoint description\",\n",
    "\"Parameter details\",\n",
    "\"Return values\",\n",
    "\"Authentication requirements\",\n",
    "\"Error codes explanation\",\n",
    "\"Sample request/response\",\n",
    "\"Versioning and compatibility\",\n",
    "\"Deprecation policy\",\n",
    "\"Rate limits\",\n",
    "\"Security guidelines\",\n",
    "\"Code repair\",\n",
    "\"Bug identification\",\n",
    "\"Code fix suggestions\",\n",
    "\"Defect detection\",\n",
    "\"Clone detection\",\n",
    "\"bugs in this code\",\n",
    "\"fixing the bugs in a code\",\n",
    "\" an error message/traceback\",\n",
    "\"fixing an error message <message> in a code\",\n",
    "\"Debugging Strategies/Tooling\",\n",
    "\"Unit Test Generation\",\n",
    "\"Testing Strategy (e.g. frameworks/guides)\",\n",
    "\"Automated regression testing\",\n",
    "\"Integration testing tools\",\n",
    "\"Continuous testing practices\",\n",
    "\"Load and performance testing\",\n",
    "\"Security penetration testing\",\n",
    "\"User acceptance testing\",\n",
    "\"Code coverage analysis\",\n",
    "\"Test data generation\",\n",
    "\"Deobfuscation\",\n",
    "\"Code classification\",\n",
    "\"Peer review automation\",\n",
    "\"Static code analysis\",\n",
    "\"Code style enforcement\",\n",
    "\"Security review integration\",\n",
    "\"Review metrics and dashboards\",\n",
    "\"Automated refactor suggestions\",\n",
    "\"Code smell detection\",\n",
    "\"Best practices checklist\",\n",
    "\"Identifying mistakes that allow for XSS injection\",\n",
    "\"SQL injection prevention\",\n",
    "\"Code audit for security vulnerabilities\",\n",
    "\"Encryption standards review\",\n",
    "\"Authentication mechanism review\",\n",
    "\"Access control checks\",\n",
    "\"Data privacy compliance\",\n",
    "\"Security best practices\",\n",
    "\"Third-party library security\",\n",
    "\"Secure coding training\",\n",
    "\"Code fuzzing\",\n",
    "\"Assertion Generation\",\n",
    "\"Automated code quality reports\",\n",
    "\"Performance profiling\",\n",
    "\"Memory leak detection\",\n",
    "\"Usability testing\",\n",
    "\"Cross-browser testing\",\n",
    "\"Mobile responsiveness testing\",\n",
    "\"Accessibility compliance\",\n",
    "\"Internationalization checks\",\n",
    "\"Parsing logs into structured templates\",\n",
    "\"Finding anomalies from raw logs\",\n",
    "\"Log event correlation\",\n",
    "\"Predictive log analysis\",\n",
    "\"Log-based alerting\",\n",
    "\"Real-time log monitoring\",\n",
    "\"Log archiving strategies\",\n",
    "\"Log data visualization\",\n",
    "\"User behavior analysis from logs\",\n",
    "\"Security incident detection through logs\"\n",
    "]"
   ]
  },
  {
   "cell_type": "code",
   "execution_count": 5,
   "id": "ef6c4403-b965-41a0-93e8-53abe2a4ca9a",
   "metadata": {
    "tags": []
   },
   "outputs": [],
   "source": [
    "languages=['ada', 'agda', 'alloy', 'antlr', 'applescript', 'assembly', 'augeas', 'awk', 'batchfile', 'bluespec', 'c', 'c#', 'c++', 'clojure', 'cmake', 'coffeescript', 'common-lisp', 'css', 'cuda', 'dart', 'dockerfile', 'elixir', 'elm', 'emacs-lisp', 'erlang', 'f#', 'fortran', 'glsl', 'go', 'groovy', 'haskell', 'html', 'idris', 'isabelle', 'java', 'java-server-pages', 'javascript', 'json', 'julia', 'jupyter-notebook', 'kotlin', 'lean', 'literate-agda', 'literate-coffeescript', 'literate-haskell', 'lua', 'makefile', 'maple', 'markdown', 'mathematica', 'matlab', 'objectc++', 'ocaml', 'pascal', 'perl', 'php', 'powershell', 'prolog', 'protocol-buffer', 'python', 'r', 'racket', 'restructuredtext', 'rmarkdown', 'ruby', 'rust', 'sas', 'scala', 'scheme', 'shell', 'smalltalk', 'solidity', 'sparql', 'sql', 'stan', 'standard-ml', 'stata', 'swift', 'systemverilog', 'tcl', 'tcsh', 'tex', 'thrift', 'typescript', 'verilog', 'vhdl', 'visual-basic', 'vue', 'xslt', 'yacc', 'yaml', 'zig']"
   ]
  },
  {
   "cell_type": "code",
   "execution_count": null,
   "id": "cf5ef06a-ba36-4c44-be64-672c0e400134",
   "metadata": {
    "collapsed": true,
    "jupyter": {
     "outputs_hidden": true
    },
    "tags": []
   },
   "outputs": [
    {
     "name": "stderr",
     "output_type": "stream",
     "text": [
      "  0%|          | 0/180 [00:00<?, ?it/s]"
     ]
    },
    {
     "name": "stdout",
     "output_type": "stream",
     "text": [
      "input_prompt: \n",
      "Generate 5 questions and their responses with example code in Html language to identify,explain Code synthesis. The level of complexity has to be high school student.\n",
      "\n",
      "----------------------------------------------------------------------------------------------------\n",
      "input_prompt: \n",
      "Generate 5 questions and their responses with example code in Protocol-buffer language to identify,explain Code synthesis. The level of complexity has to be college student.\n",
      "\n",
      "----------------------------------------------------------------------------------------------------\n",
      "input_prompt: \n",
      "Generate 5 questions and their responses with example code in Visual-basic language to identify,explain Code synthesis. The level of complexity has to be extreme difficult.\n",
      "\n"
     ]
    },
    {
     "name": "stderr",
     "output_type": "stream",
     "text": [
      "  1%|          | 1/180 [00:45<2:15:41, 45.48s/it]"
     ]
    },
    {
     "name": "stdout",
     "output_type": "stream",
     "text": [
      "----------------------------------------------------------------------------------------------------\n",
      "####################################################################################################\n",
      "Time taken for a L3 task for a single language for a single difficulty level: 45.48173522949219\n",
      "input_prompt: \n",
      "Generate 5 questions and their responses with example code in Glsl language to identify,explain Code retreival. The level of complexity has to be high school student.\n",
      "\n",
      "----------------------------------------------------------------------------------------------------\n",
      "input_prompt: \n",
      "Generate 5 questions and their responses with example code in Standard-ml language to identify,explain Code retreival. The level of complexity has to be college student.\n",
      "\n",
      "----------------------------------------------------------------------------------------------------\n",
      "input_prompt: \n",
      "Generate 5 questions and their responses with example code in Lean language to identify,explain Code retreival. The level of complexity has to be extreme difficult.\n",
      "\n"
     ]
    },
    {
     "name": "stderr",
     "output_type": "stream",
     "text": [
      "  1%|          | 2/180 [01:42<2:35:17, 52.34s/it]"
     ]
    },
    {
     "name": "stdout",
     "output_type": "stream",
     "text": [
      "----------------------------------------------------------------------------------------------------\n",
      "####################################################################################################\n",
      "Time taken for a L3 task for a single language for a single difficulty level: 57.14656710624695\n",
      "input_prompt: \n",
      "Generate 5 questions and their responses with example code in Groovy language to identify,explain Text to SQL. The level of complexity has to be high school student.\n",
      "\n",
      "----------------------------------------------------------------------------------------------------\n",
      "input_prompt: \n",
      "Generate 5 questions and their responses with example code in Java language to identify,explain Text to SQL. The level of complexity has to be college student.\n",
      "\n",
      "----------------------------------------------------------------------------------------------------\n",
      "input_prompt: \n",
      "Generate 5 questions and their responses with example code in Ocaml language to identify,explain Text to SQL. The level of complexity has to be extreme difficult.\n",
      "\n"
     ]
    },
    {
     "name": "stderr",
     "output_type": "stream",
     "text": [
      "  2%|▏         | 3/180 [02:33<2:31:49, 51.47s/it]"
     ]
    },
    {
     "name": "stdout",
     "output_type": "stream",
     "text": [
      "----------------------------------------------------------------------------------------------------\n",
      "####################################################################################################\n",
      "Time taken for a L3 task for a single language for a single difficulty level: 50.421645164489746\n",
      "input_prompt: \n",
      "Generate 5 questions and their responses with example code in Agda language to identify,explain Math programming. The level of complexity has to be high school student.\n",
      "\n",
      "----------------------------------------------------------------------------------------------------\n",
      "input_prompt: \n",
      "Generate 5 questions and their responses with example code in Sas language to identify,explain Math programming. The level of complexity has to be college student.\n",
      "\n",
      "----------------------------------------------------------------------------------------------------\n",
      "input_prompt: \n",
      "Generate 5 questions and their responses with example code in Alloy language to identify,explain Math programming. The level of complexity has to be extreme difficult.\n",
      "\n"
     ]
    },
    {
     "name": "stderr",
     "output_type": "stream",
     "text": [
      "  2%|▏         | 4/180 [03:24<2:30:44, 51.39s/it]"
     ]
    },
    {
     "name": "stdout",
     "output_type": "stream",
     "text": [
      "----------------------------------------------------------------------------------------------------\n",
      "####################################################################################################\n",
      "Time taken for a L3 task for a single language for a single difficulty level: 51.265698194503784\n",
      "input_prompt: \n",
      "Generate 5 questions and their responses with example code in Scheme language to identify,explain Code snippets & examples. The level of complexity has to be high school student.\n",
      "\n",
      "----------------------------------------------------------------------------------------------------\n",
      "input_prompt: \n",
      "Generate 5 questions and their responses with example code in Elixir language to identify,explain Code snippets & examples. The level of complexity has to be college student.\n",
      "\n",
      "----------------------------------------------------------------------------------------------------\n",
      "input_prompt: \n",
      "Generate 5 questions and their responses with example code in Rmarkdown language to identify,explain Code snippets & examples. The level of complexity has to be extreme difficult.\n",
      "\n"
     ]
    },
    {
     "name": "stderr",
     "output_type": "stream",
     "text": [
      "  3%|▎         | 5/180 [04:21<2:36:19, 53.60s/it]"
     ]
    },
    {
     "name": "stdout",
     "output_type": "stream",
     "text": [
      "----------------------------------------------------------------------------------------------------\n",
      "####################################################################################################\n",
      "Time taken for a L3 task for a single language for a single difficulty level: 57.5165319442749\n",
      "input_prompt: \n",
      "Generate 5 questions and their responses with example code in Elixir language to identify,explain Plot generation. The level of complexity has to be high school student.\n",
      "\n",
      "----------------------------------------------------------------------------------------------------\n",
      "input_prompt: \n",
      "Generate 5 questions and their responses with example code in Markdown language to identify,explain Plot generation. The level of complexity has to be college student.\n",
      "\n",
      "----------------------------------------------------------------------------------------------------\n",
      "input_prompt: \n",
      "Generate 5 questions and their responses with example code in C++ language to identify,explain Plot generation. The level of complexity has to be extreme difficult.\n",
      "\n"
     ]
    },
    {
     "name": "stderr",
     "output_type": "stream",
     "text": [
      "  3%|▎         | 6/180 [05:54<3:13:42, 66.79s/it]"
     ]
    },
    {
     "name": "stdout",
     "output_type": "stream",
     "text": [
      "----------------------------------------------------------------------------------------------------\n",
      "####################################################################################################\n",
      "Time taken for a L3 task for a single language for a single difficulty level: 92.40928769111633\n",
      "input_prompt: \n",
      "Generate 5 questions and their responses with example code in Smalltalk language to identify,explain Generating bash commands. The level of complexity has to be high school student.\n",
      "\n",
      "----------------------------------------------------------------------------------------------------\n",
      "input_prompt: \n",
      "Generate 5 questions and their responses with example code in Powershell language to identify,explain Generating bash commands. The level of complexity has to be college student.\n",
      "\n",
      "----------------------------------------------------------------------------------------------------\n",
      "input_prompt: \n",
      "Generate 5 questions and their responses with example code in Lua language to identify,explain Generating bash commands. The level of complexity has to be extreme difficult.\n",
      "\n"
     ]
    },
    {
     "name": "stderr",
     "output_type": "stream",
     "text": [
      "  4%|▍         | 7/180 [06:34<2:47:43, 58.17s/it]"
     ]
    },
    {
     "name": "stdout",
     "output_type": "stream",
     "text": [
      "----------------------------------------------------------------------------------------------------\n",
      "####################################################################################################\n",
      "Time taken for a L3 task for a single language for a single difficulty level: 40.413137912750244\n",
      "input_prompt: \n",
      "Generate 5 questions and their responses with example code in Makefile language to identify,explain Database query generation. The level of complexity has to be high school student.\n",
      "\n",
      "----------------------------------------------------------------------------------------------------\n",
      "input_prompt: \n",
      "Generate 5 questions and their responses with example code in Ada language to identify,explain Database query generation. The level of complexity has to be college student.\n",
      "\n",
      "----------------------------------------------------------------------------------------------------\n",
      "input_prompt: \n",
      "Generate 5 questions and their responses with example code in Objectc++ language to identify,explain Database query generation. The level of complexity has to be extreme difficult.\n",
      "\n"
     ]
    },
    {
     "name": "stderr",
     "output_type": "stream",
     "text": [
      "  4%|▍         | 8/180 [07:43<2:56:30, 61.57s/it]"
     ]
    },
    {
     "name": "stdout",
     "output_type": "stream",
     "text": [
      "----------------------------------------------------------------------------------------------------\n",
      "####################################################################################################\n",
      "Time taken for a L3 task for a single language for a single difficulty level: 68.85529017448425\n",
      "input_prompt: \n",
      "Generate 5 questions and their responses with example code in Prolog language to identify,explain UI code generation. The level of complexity has to be high school student.\n",
      "\n",
      "----------------------------------------------------------------------------------------------------\n",
      "input_prompt: \n",
      "Generate 5 questions and their responses with example code in Bluespec language to identify,explain UI code generation. The level of complexity has to be college student.\n",
      "\n",
      "----------------------------------------------------------------------------------------------------\n",
      "input_prompt: \n",
      "Generate 5 questions and their responses with example code in Lean language to identify,explain UI code generation. The level of complexity has to be extreme difficult.\n",
      "\n"
     ]
    },
    {
     "name": "stderr",
     "output_type": "stream",
     "text": [
      "  5%|▌         | 9/180 [08:35<2:47:21, 58.72s/it]"
     ]
    },
    {
     "name": "stdout",
     "output_type": "stream",
     "text": [
      "----------------------------------------------------------------------------------------------------\n",
      "####################################################################################################\n",
      "Time taken for a L3 task for a single language for a single difficulty level: 52.4489381313324\n",
      "input_prompt: \n",
      "Generate 5 questions and their responses with example code in Lean language to identify,explain Configuration file generation. The level of complexity has to be high school student.\n",
      "\n",
      "----------------------------------------------------------------------------------------------------\n",
      "input_prompt: \n",
      "Generate 5 questions and their responses with example code in Vhdl language to identify,explain Configuration file generation. The level of complexity has to be college student.\n",
      "\n",
      "----------------------------------------------------------------------------------------------------\n",
      "input_prompt: \n",
      "Generate 5 questions and their responses with example code in Literate-coffeescript language to identify,explain Configuration file generation. The level of complexity has to be extreme difficult.\n",
      "\n"
     ]
    },
    {
     "name": "stderr",
     "output_type": "stream",
     "text": [
      "  6%|▌         | 10/180 [09:19<2:33:17, 54.10s/it]"
     ]
    },
    {
     "name": "stdout",
     "output_type": "stream",
     "text": [
      "----------------------------------------------------------------------------------------------------\n",
      "####################################################################################################\n",
      "Time taken for a L3 task for a single language for a single difficulty level: 43.76154947280884\n",
      "input_prompt: \n",
      "Generate 5 questions and their responses with example code in Solidity language to identify,explain Completing a function. The level of complexity has to be high school student.\n",
      "\n",
      "----------------------------------------------------------------------------------------------------\n",
      "input_prompt: \n",
      "Generate 5 questions and their responses with example code in C language to identify,explain Completing a function. The level of complexity has to be college student.\n",
      "\n",
      "----------------------------------------------------------------------------------------------------\n",
      "input_prompt: \n",
      "Generate 5 questions and their responses with example code in Makefile language to identify,explain Completing a function. The level of complexity has to be extreme difficult.\n",
      "\n"
     ]
    },
    {
     "name": "stderr",
     "output_type": "stream",
     "text": [
      "  6%|▌         | 11/180 [10:09<2:28:47, 52.83s/it]"
     ]
    },
    {
     "name": "stdout",
     "output_type": "stream",
     "text": [
      "----------------------------------------------------------------------------------------------------\n",
      "####################################################################################################\n",
      "Time taken for a L3 task for a single language for a single difficulty level: 49.92841124534607\n",
      "input_prompt: \n",
      "Generate 5 questions and their responses with example code in Alloy language to identify,explain Completing a class. The level of complexity has to be high school student.\n",
      "\n",
      "----------------------------------------------------------------------------------------------------\n",
      "input_prompt: \n",
      "Generate 5 questions and their responses with example code in Json language to identify,explain Completing a class. The level of complexity has to be college student.\n",
      "\n",
      "----------------------------------------------------------------------------------------------------\n",
      "input_prompt: \n",
      "Generate 5 questions and their responses with example code in Alloy language to identify,explain Completing a class. The level of complexity has to be extreme difficult.\n",
      "\n"
     ]
    },
    {
     "name": "stderr",
     "output_type": "stream",
     "text": [
      "  7%|▋         | 12/180 [10:54<2:20:43, 50.26s/it]"
     ]
    },
    {
     "name": "stdout",
     "output_type": "stream",
     "text": [
      "----------------------------------------------------------------------------------------------------\n",
      "####################################################################################################\n",
      "Time taken for a L3 task for a single language for a single difficulty level: 44.37988328933716\n",
      "input_prompt: \n",
      "Generate 5 questions and their responses with example code in Systemverilog language to identify,explain Code infilling. The level of complexity has to be high school student.\n",
      "\n",
      "----------------------------------------------------------------------------------------------------\n",
      "input_prompt: \n",
      "Generate 5 questions and their responses with example code in Javascript language to identify,explain Code infilling. The level of complexity has to be college student.\n",
      "\n",
      "----------------------------------------------------------------------------------------------------\n",
      "input_prompt: \n",
      "Generate 5 questions and their responses with example code in Haskell language to identify,explain Code infilling. The level of complexity has to be extreme difficult.\n",
      "\n"
     ]
    },
    {
     "name": "stderr",
     "output_type": "stream",
     "text": [
      "  7%|▋         | 13/180 [11:36<2:13:22, 47.92s/it]"
     ]
    },
    {
     "name": "stdout",
     "output_type": "stream",
     "text": [
      "----------------------------------------------------------------------------------------------------\n",
      "####################################################################################################\n",
      "Time taken for a L3 task for a single language for a single difficulty level: 42.54153871536255\n",
      "input_prompt: \n",
      "Generate 5 questions and their responses with example code in Objectc++ language to identify,explain Predicting next line of code. The level of complexity has to be high school student.\n",
      "\n",
      "----------------------------------------------------------------------------------------------------\n",
      "input_prompt: \n",
      "Generate 5 questions and their responses with example code in Swift language to identify,explain Predicting next line of code. The level of complexity has to be college student.\n",
      "\n",
      "----------------------------------------------------------------------------------------------------\n",
      "input_prompt: \n",
      "Generate 5 questions and their responses with example code in C language to identify,explain Predicting next line of code. The level of complexity has to be extreme difficult.\n",
      "\n"
     ]
    },
    {
     "name": "stderr",
     "output_type": "stream",
     "text": [
      "  8%|▊         | 14/180 [12:20<2:09:34, 46.83s/it]"
     ]
    },
    {
     "name": "stdout",
     "output_type": "stream",
     "text": [
      "----------------------------------------------------------------------------------------------------\n",
      "####################################################################################################\n",
      "Time taken for a L3 task for a single language for a single difficulty level: 44.32333254814148\n",
      "input_prompt: \n",
      "Generate 5 questions and their responses with example code in Prolog language to identify,explain Autocomplete code blocks. The level of complexity has to be high school student.\n",
      "\n",
      "----------------------------------------------------------------------------------------------------\n",
      "input_prompt: \n",
      "Generate 5 questions and their responses with example code in Awk language to identify,explain Autocomplete code blocks. The level of complexity has to be college student.\n",
      "\n",
      "----------------------------------------------------------------------------------------------------\n",
      "input_prompt: \n",
      "Generate 5 questions and their responses with example code in Mathematica language to identify,explain Autocomplete code blocks. The level of complexity has to be extreme difficult.\n",
      "\n"
     ]
    },
    {
     "name": "stderr",
     "output_type": "stream",
     "text": [
      "  8%|▊         | 15/180 [13:19<2:18:35, 50.40s/it]"
     ]
    },
    {
     "name": "stdout",
     "output_type": "stream",
     "text": [
      "----------------------------------------------------------------------------------------------------\n",
      "####################################################################################################\n",
      "Time taken for a L3 task for a single language for a single difficulty level: 58.66360855102539\n",
      "input_prompt: \n",
      "Generate 5 questions and their responses with example code in Alloy language to identify,explain Variable name suggestion. The level of complexity has to be high school student.\n",
      "\n",
      "----------------------------------------------------------------------------------------------------\n",
      "input_prompt: \n",
      "Generate 5 questions and their responses with example code in Scala language to identify,explain Variable name suggestion. The level of complexity has to be college student.\n",
      "\n",
      "----------------------------------------------------------------------------------------------------\n",
      "input_prompt: \n",
      "Generate 5 questions and their responses with example code in Groovy language to identify,explain Variable name suggestion. The level of complexity has to be extreme difficult.\n",
      "\n"
     ]
    },
    {
     "name": "stderr",
     "output_type": "stream",
     "text": [
      "  9%|▉         | 16/180 [13:51<2:02:33, 44.84s/it]"
     ]
    },
    {
     "name": "stdout",
     "output_type": "stream",
     "text": [
      "----------------------------------------------------------------------------------------------------\n",
      "####################################################################################################\n",
      "Time taken for a L3 task for a single language for a single difficulty level: 31.914191961288452\n",
      "input_prompt: \n",
      "Generate 5 questions and their responses with example code in Sql language to identify,explain Method signature completion. The level of complexity has to be high school student.\n",
      "\n",
      "----------------------------------------------------------------------------------------------------\n",
      "input_prompt: \n",
      "Generate 5 questions and their responses with example code in Julia language to identify,explain Method signature completion. The level of complexity has to be college student.\n",
      "\n",
      "----------------------------------------------------------------------------------------------------\n",
      "input_prompt: \n",
      "Generate 5 questions and their responses with example code in Elixir language to identify,explain Method signature completion. The level of complexity has to be extreme difficult.\n",
      "\n"
     ]
    },
    {
     "name": "stderr",
     "output_type": "stream",
     "text": [
      "  9%|▉         | 17/180 [14:39<2:04:06, 45.68s/it]"
     ]
    },
    {
     "name": "stdout",
     "output_type": "stream",
     "text": [
      "----------------------------------------------------------------------------------------------------\n",
      "####################################################################################################\n",
      "Time taken for a L3 task for a single language for a single difficulty level: 47.6557412147522\n",
      "input_prompt: \n",
      "Generate 5 questions and their responses with example code in Cmake language to identify,explain Auto-generate test cases. The level of complexity has to be high school student.\n",
      "\n",
      "----------------------------------------------------------------------------------------------------\n",
      "input_prompt: \n",
      "Generate 5 questions and their responses with example code in Assembly language to identify,explain Auto-generate test cases. The level of complexity has to be college student.\n",
      "\n",
      "----------------------------------------------------------------------------------------------------\n",
      "input_prompt: \n",
      "Generate 5 questions and their responses with example code in Literate-agda language to identify,explain Auto-generate test cases. The level of complexity has to be extreme difficult.\n",
      "\n"
     ]
    },
    {
     "name": "stderr",
     "output_type": "stream",
     "text": [
      " 10%|█         | 18/180 [15:30<2:07:49, 47.34s/it]"
     ]
    },
    {
     "name": "stdout",
     "output_type": "stream",
     "text": [
      "----------------------------------------------------------------------------------------------------\n",
      "####################################################################################################\n",
      "Time taken for a L3 task for a single language for a single difficulty level: 51.202231884002686\n",
      "input_prompt: \n",
      "Generate 5 questions and their responses with example code in Php language to identify,explain Completing HTML tags. The level of complexity has to be high school student.\n",
      "\n",
      "----------------------------------------------------------------------------------------------------\n",
      "input_prompt: \n",
      "Generate 5 questions and their responses with example code in C language to identify,explain Completing HTML tags. The level of complexity has to be college student.\n",
      "\n",
      "----------------------------------------------------------------------------------------------------\n",
      "input_prompt: \n",
      "Generate 5 questions and their responses with example code in Restructuredtext language to identify,explain Completing HTML tags. The level of complexity has to be extreme difficult.\n",
      "\n"
     ]
    },
    {
     "name": "stderr",
     "output_type": "stream",
     "text": [
      " 11%|█         | 19/180 [16:46<2:30:03, 55.92s/it]"
     ]
    },
    {
     "name": "stdout",
     "output_type": "stream",
     "text": [
      "----------------------------------------------------------------------------------------------------\n",
      "####################################################################################################\n",
      "Time taken for a L3 task for a single language for a single difficulty level: 75.90352749824524\n",
      "input_prompt: \n",
      "Generate 5 questions and their responses with example code in Agda language to identify,explain Syntax correction. The level of complexity has to be high school student.\n",
      "\n",
      "----------------------------------------------------------------------------------------------------\n",
      "input_prompt: \n",
      "Generate 5 questions and their responses with example code in Stan language to identify,explain Syntax correction. The level of complexity has to be college student.\n",
      "\n",
      "----------------------------------------------------------------------------------------------------\n",
      "input_prompt: \n",
      "Generate 5 questions and their responses with example code in Julia language to identify,explain Syntax correction. The level of complexity has to be extreme difficult.\n",
      "\n"
     ]
    },
    {
     "name": "stderr",
     "output_type": "stream",
     "text": [
      " 11%|█         | 20/180 [17:32<2:21:10, 52.94s/it]"
     ]
    },
    {
     "name": "stdout",
     "output_type": "stream",
     "text": [
      "----------------------------------------------------------------------------------------------------\n",
      "####################################################################################################\n",
      "Time taken for a L3 task for a single language for a single difficulty level: 45.989057302474976\n",
      "input_prompt: \n",
      "Generate 5 questions and their responses with example code in Erlang language to identify,explain Summarizing a file / script / repository in a paragraph (or 5 bullets). The level of complexity has to be high school student.\n",
      "\n",
      "----------------------------------------------------------------------------------------------------\n",
      "input_prompt: \n",
      "Generate 5 questions and their responses with example code in Markdown language to identify,explain Summarizing a file / script / repository in a paragraph (or 5 bullets). The level of complexity has to be college student.\n",
      "\n",
      "----------------------------------------------------------------------------------------------------\n",
      "input_prompt: \n",
      "Generate 5 questions and their responses with example code in Go language to identify,explain Summarizing a file / script / repository in a paragraph (or 5 bullets). The level of complexity has to be extreme difficult.\n",
      "\n"
     ]
    },
    {
     "name": "stderr",
     "output_type": "stream",
     "text": [
      " 12%|█▏        | 21/180 [18:27<2:22:30, 53.78s/it]"
     ]
    },
    {
     "name": "stdout",
     "output_type": "stream",
     "text": [
      "----------------------------------------------------------------------------------------------------\n",
      "####################################################################################################\n",
      "Time taken for a L3 task for a single language for a single difficulty level: 55.73082423210144\n",
      "input_prompt: \n",
      "Generate 5 questions and their responses with example code in Perl language to identify,explain Automatic commenting. The level of complexity has to be high school student.\n",
      "\n",
      "----------------------------------------------------------------------------------------------------\n",
      "input_prompt: \n",
      "Generate 5 questions and their responses with example code in Stan language to identify,explain Automatic commenting. The level of complexity has to be college student.\n",
      "\n",
      "----------------------------------------------------------------------------------------------------\n",
      "input_prompt: \n",
      "Generate 5 questions and their responses with example code in F# language to identify,explain Automatic commenting. The level of complexity has to be extreme difficult.\n",
      "\n"
     ]
    },
    {
     "name": "stderr",
     "output_type": "stream",
     "text": [
      " 12%|█▏        | 22/180 [19:16<2:17:28, 52.21s/it]"
     ]
    },
    {
     "name": "stdout",
     "output_type": "stream",
     "text": [
      "----------------------------------------------------------------------------------------------------\n",
      "####################################################################################################\n",
      "Time taken for a L3 task for a single language for a single difficulty level: 48.53936529159546\n",
      "input_prompt: \n",
      "Generate 5 questions and their responses with example code in Scala language to identify,explain Minify code. The level of complexity has to be high school student.\n",
      "\n",
      "----------------------------------------------------------------------------------------------------\n",
      "input_prompt: \n",
      "Generate 5 questions and their responses with example code in Scala language to identify,explain Minify code. The level of complexity has to be college student.\n",
      "\n",
      "----------------------------------------------------------------------------------------------------\n",
      "input_prompt: \n",
      "Generate 5 questions and their responses with example code in Shell language to identify,explain Minify code. The level of complexity has to be extreme difficult.\n",
      "\n"
     ]
    },
    {
     "name": "stderr",
     "output_type": "stream",
     "text": [
      " 13%|█▎        | 23/180 [20:04<2:13:03, 50.85s/it]"
     ]
    },
    {
     "name": "stdout",
     "output_type": "stream",
     "text": [
      "----------------------------------------------------------------------------------------------------\n",
      "####################################################################################################\n",
      "Time taken for a L3 task for a single language for a single difficulty level: 47.694632053375244\n",
      "input_prompt: \n",
      "Generate 5 questions and their responses with example code in R language to identify,explain Extracting main features of code. The level of complexity has to be high school student.\n",
      "\n",
      "----------------------------------------------------------------------------------------------------\n",
      "input_prompt: \n",
      "Generate 5 questions and their responses with example code in Racket language to identify,explain Extracting main features of code. The level of complexity has to be college student.\n",
      "\n",
      "----------------------------------------------------------------------------------------------------\n",
      "input_prompt: \n",
      "Generate 5 questions and their responses with example code in Mathematica language to identify,explain Extracting main features of code. The level of complexity has to be extreme difficult.\n",
      "\n"
     ]
    },
    {
     "name": "stderr",
     "output_type": "stream",
     "text": [
      " 13%|█▎        | 24/180 [20:55<2:12:42, 51.04s/it]"
     ]
    },
    {
     "name": "stdout",
     "output_type": "stream",
     "text": [
      "----------------------------------------------------------------------------------------------------\n",
      "####################################################################################################\n",
      "Time taken for a L3 task for a single language for a single difficulty level: 51.4878888130188\n",
      "input_prompt: \n",
      "Generate 5 questions and their responses with example code in Java-server-pages language to identify,explain Generating code abstract. The level of complexity has to be high school student.\n",
      "\n",
      "----------------------------------------------------------------------------------------------------\n",
      "input_prompt: \n",
      "Generate 5 questions and their responses with example code in Elixir language to identify,explain Generating code abstract. The level of complexity has to be college student.\n",
      "\n",
      "----------------------------------------------------------------------------------------------------\n",
      "input_prompt: \n",
      "Generate 5 questions and their responses with example code in Prolog language to identify,explain Generating code abstract. The level of complexity has to be extreme difficult.\n",
      "\n"
     ]
    },
    {
     "name": "stderr",
     "output_type": "stream",
     "text": [
      " 14%|█▍        | 25/180 [21:48<2:13:24, 51.64s/it]"
     ]
    },
    {
     "name": "stdout",
     "output_type": "stream",
     "text": [
      "----------------------------------------------------------------------------------------------------\n",
      "####################################################################################################\n",
      "Time taken for a L3 task for a single language for a single difficulty level: 53.03499913215637\n",
      "input_prompt: \n",
      "Generate 5 questions and their responses with example code in Coffeescript language to identify,explain Visual code summary. The level of complexity has to be high school student.\n",
      "\n",
      "----------------------------------------------------------------------------------------------------\n",
      "input_prompt: \n",
      "Generate 5 questions and their responses with example code in Stata language to identify,explain Visual code summary. The level of complexity has to be college student.\n",
      "\n",
      "----------------------------------------------------------------------------------------------------\n",
      "input_prompt: \n",
      "Generate 5 questions and their responses with example code in Haskell language to identify,explain Visual code summary. The level of complexity has to be extreme difficult.\n",
      "\n"
     ]
    },
    {
     "name": "stderr",
     "output_type": "stream",
     "text": [
      " 14%|█▍        | 26/180 [22:46<2:17:22, 53.52s/it]"
     ]
    },
    {
     "name": "stdout",
     "output_type": "stream",
     "text": [
      "----------------------------------------------------------------------------------------------------\n",
      "####################################################################################################\n",
      "Time taken for a L3 task for a single language for a single difficulty level: 57.904688596725464\n",
      "input_prompt: \n",
      "Generate 5 questions and their responses with example code in Batchfile language to identify,explain Code compression techniques. The level of complexity has to be high school student.\n",
      "\n",
      "----------------------------------------------------------------------------------------------------\n",
      "input_prompt: \n",
      "Generate 5 questions and their responses with example code in Antlr language to identify,explain Code compression techniques. The level of complexity has to be college student.\n",
      "\n",
      "----------------------------------------------------------------------------------------------------\n",
      "input_prompt: \n",
      "Generate 5 questions and their responses with example code in Tex language to identify,explain Code compression techniques. The level of complexity has to be extreme difficult.\n",
      "\n"
     ]
    },
    {
     "name": "stderr",
     "output_type": "stream",
     "text": [
      " 15%|█▌        | 27/180 [23:43<2:18:55, 54.48s/it]"
     ]
    },
    {
     "name": "stdout",
     "output_type": "stream",
     "text": [
      "----------------------------------------------------------------------------------------------------\n",
      "####################################################################################################\n",
      "Time taken for a L3 task for a single language for a single difficulty level: 56.72611951828003\n",
      "input_prompt: \n",
      "Generate 5 questions and their responses with example code in Literate-haskell language to identify,explain Summarizing changes in version control. The level of complexity has to be high school student.\n",
      "\n",
      "----------------------------------------------------------------------------------------------------\n",
      "input_prompt: \n",
      "Generate 5 questions and their responses with example code in Yacc language to identify,explain Summarizing changes in version control. The level of complexity has to be college student.\n",
      "\n",
      "----------------------------------------------------------------------------------------------------\n",
      "input_prompt: \n",
      "Generate 5 questions and their responses with example code in Cmake language to identify,explain Summarizing changes in version control. The level of complexity has to be extreme difficult.\n",
      "\n"
     ]
    },
    {
     "name": "stderr",
     "output_type": "stream",
     "text": [
      " 16%|█▌        | 28/180 [24:43<2:22:08, 56.11s/it]"
     ]
    },
    {
     "name": "stdout",
     "output_type": "stream",
     "text": [
      "----------------------------------------------------------------------------------------------------\n",
      "####################################################################################################\n",
      "Time taken for a L3 task for a single language for a single difficulty level: 59.9120831489563\n",
      "input_prompt: \n",
      "Generate 5 questions and their responses with example code in Lua language to identify,explain Documentation summarization. The level of complexity has to be high school student.\n",
      "\n",
      "----------------------------------------------------------------------------------------------------\n",
      "input_prompt: \n",
      "Generate 5 questions and their responses with example code in Scala language to identify,explain Documentation summarization. The level of complexity has to be college student.\n",
      "\n",
      "----------------------------------------------------------------------------------------------------\n",
      "input_prompt: \n",
      "Generate 5 questions and their responses with example code in Mathematica language to identify,explain Documentation summarization. The level of complexity has to be extreme difficult.\n",
      "\n"
     ]
    },
    {
     "name": "stderr",
     "output_type": "stream",
     "text": [
      " 16%|█▌        | 29/180 [25:30<2:14:34, 53.47s/it]"
     ]
    },
    {
     "name": "stdout",
     "output_type": "stream",
     "text": [
      "----------------------------------------------------------------------------------------------------\n",
      "####################################################################################################\n",
      "Time taken for a L3 task for a single language for a single difficulty level: 47.31501126289368\n",
      "input_prompt: \n",
      "Generate 5 questions and their responses with example code in Scala language to identify,explain Inline code summarization. The level of complexity has to be high school student.\n",
      "\n",
      "----------------------------------------------------------------------------------------------------\n",
      "input_prompt: \n",
      "Generate 5 questions and their responses with example code in Tcl language to identify,explain Inline code summarization. The level of complexity has to be college student.\n",
      "\n",
      "----------------------------------------------------------------------------------------------------\n",
      "input_prompt: \n",
      "Generate 5 questions and their responses with example code in Applescript language to identify,explain Inline code summarization. The level of complexity has to be extreme difficult.\n",
      "\n"
     ]
    },
    {
     "name": "stderr",
     "output_type": "stream",
     "text": [
      " 17%|█▋        | 30/180 [26:36<2:22:52, 57.15s/it]"
     ]
    },
    {
     "name": "stdout",
     "output_type": "stream",
     "text": [
      "----------------------------------------------------------------------------------------------------\n",
      "####################################################################################################\n",
      "Time taken for a L3 task for a single language for a single difficulty level: 65.7382881641388\n",
      "input_prompt: \n",
      "Generate 5 questions and their responses with example code in Literate-coffeescript language to identify,explain Code modification (refactoring). The level of complexity has to be high school student.\n",
      "\n",
      "----------------------------------------------------------------------------------------------------\n",
      "input_prompt: \n",
      "Generate 5 questions and their responses with example code in Css language to identify,explain Code modification (refactoring). The level of complexity has to be college student.\n",
      "\n",
      "----------------------------------------------------------------------------------------------------\n",
      "input_prompt: \n",
      "Generate 5 questions and their responses with example code in C# language to identify,explain Code modification (refactoring). The level of complexity has to be extreme difficult.\n",
      "\n"
     ]
    },
    {
     "name": "stderr",
     "output_type": "stream",
     "text": [
      " 17%|█▋        | 31/180 [27:27<2:17:48, 55.50s/it]"
     ]
    },
    {
     "name": "stdout",
     "output_type": "stream",
     "text": [
      "----------------------------------------------------------------------------------------------------\n",
      "####################################################################################################\n",
      "Time taken for a L3 task for a single language for a single difficulty level: 51.62799525260925\n",
      "input_prompt: \n",
      "Generate 5 questions and their responses with example code in Maple language to identify,explain Code optimization. The level of complexity has to be high school student.\n",
      "\n",
      "----------------------------------------------------------------------------------------------------\n",
      "input_prompt: \n",
      "Generate 5 questions and their responses with example code in Objectc++ language to identify,explain Code optimization. The level of complexity has to be college student.\n",
      "\n",
      "----------------------------------------------------------------------------------------------------\n",
      "input_prompt: \n",
      "Generate 5 questions and their responses with example code in Python language to identify,explain Code optimization. The level of complexity has to be extreme difficult.\n",
      "\n"
     ]
    },
    {
     "name": "stderr",
     "output_type": "stream",
     "text": [
      " 18%|█▊        | 32/180 [28:16<2:11:39, 53.37s/it]"
     ]
    },
    {
     "name": "stdout",
     "output_type": "stream",
     "text": [
      "----------------------------------------------------------------------------------------------------\n",
      "####################################################################################################\n",
      "Time taken for a L3 task for a single language for a single difficulty level: 48.418259620666504\n",
      "input_prompt: \n",
      "Generate 5 questions and their responses with example code in Thrift language to identify,explain Code simplification. The level of complexity has to be high school student.\n",
      "\n",
      "----------------------------------------------------------------------------------------------------\n",
      "input_prompt: \n",
      "Generate 5 questions and their responses with example code in Stata language to identify,explain Code simplification. The level of complexity has to be college student.\n",
      "\n",
      "----------------------------------------------------------------------------------------------------\n",
      "input_prompt: \n",
      "Generate 5 questions and their responses with example code in Makefile language to identify,explain Code simplification. The level of complexity has to be extreme difficult.\n",
      "\n"
     ]
    },
    {
     "name": "stderr",
     "output_type": "stream",
     "text": [
      " 18%|█▊        | 33/180 [29:01<2:04:59, 51.02s/it]"
     ]
    },
    {
     "name": "stdout",
     "output_type": "stream",
     "text": [
      "----------------------------------------------------------------------------------------------------\n",
      "####################################################################################################\n",
      "Time taken for a L3 task for a single language for a single difficulty level: 45.52993679046631\n",
      "input_prompt: \n",
      "Generate 5 questions and their responses with example code in Augeas language to identify,explain Code search - given a bit of code, search within it. The level of complexity has to be high school student.\n",
      "\n",
      "----------------------------------------------------------------------------------------------------\n",
      "input_prompt: \n",
      "Generate 5 questions and their responses with example code in Maple language to identify,explain Code search - given a bit of code, search within it. The level of complexity has to be college student.\n",
      "\n",
      "----------------------------------------------------------------------------------------------------\n",
      "input_prompt: \n",
      "Generate 5 questions and their responses with example code in Haskell language to identify,explain Code search - given a bit of code, search within it. The level of complexity has to be extreme difficult.\n",
      "\n"
     ]
    },
    {
     "name": "stderr",
     "output_type": "stream",
     "text": [
      " 19%|█▉        | 34/180 [29:59<2:08:46, 52.92s/it]"
     ]
    },
    {
     "name": "stdout",
     "output_type": "stream",
     "text": [
      "----------------------------------------------------------------------------------------------------\n",
      "####################################################################################################\n",
      "Time taken for a L3 task for a single language for a single difficulty level: 57.358827352523804\n",
      "input_prompt: \n",
      "Generate 5 questions and their responses with example code in Restructuredtext language to identify,explain API Mining - e.g. help generating calls for APIs. The level of complexity has to be high school student.\n",
      "\n",
      "----------------------------------------------------------------------------------------------------\n",
      "input_prompt: \n",
      "Generate 5 questions and their responses with example code in Typescript language to identify,explain API Mining - e.g. help generating calls for APIs. The level of complexity has to be college student.\n",
      "\n",
      "----------------------------------------------------------------------------------------------------\n",
      "input_prompt: \n",
      "Generate 5 questions and their responses with example code in Cmake language to identify,explain API Mining - e.g. help generating calls for APIs. The level of complexity has to be extreme difficult.\n",
      "\n"
     ]
    },
    {
     "name": "stderr",
     "output_type": "stream",
     "text": [
      " 19%|█▉        | 35/180 [30:50<2:06:55, 52.52s/it]"
     ]
    },
    {
     "name": "stdout",
     "output_type": "stream",
     "text": [
      "----------------------------------------------------------------------------------------------------\n",
      "####################################################################################################\n",
      "Time taken for a L3 task for a single language for a single difficulty level: 51.58819222450256\n",
      "input_prompt: \n",
      "Generate 5 questions and their responses with example code in Awk language to identify,explain Redundancy Removal. The level of complexity has to be high school student.\n",
      "\n",
      "----------------------------------------------------------------------------------------------------\n",
      "input_prompt: \n",
      "Generate 5 questions and their responses with example code in R language to identify,explain Redundancy Removal. The level of complexity has to be college student.\n",
      "\n",
      "----------------------------------------------------------------------------------------------------\n",
      "input_prompt: \n",
      "Generate 5 questions and their responses with example code in Rust language to identify,explain Redundancy Removal. The level of complexity has to be extreme difficult.\n",
      "\n"
     ]
    },
    {
     "name": "stderr",
     "output_type": "stream",
     "text": [
      " 20%|██        | 36/180 [31:34<1:59:38, 49.85s/it]"
     ]
    },
    {
     "name": "stdout",
     "output_type": "stream",
     "text": [
      "----------------------------------------------------------------------------------------------------\n",
      "####################################################################################################\n",
      "Time taken for a L3 task for a single language for a single difficulty level: 43.60830092430115\n",
      "input_prompt: \n",
      "Generate 5 questions and their responses with example code in Glsl language to identify,explain Converting loops to recursion. The level of complexity has to be high school student.\n",
      "\n",
      "----------------------------------------------------------------------------------------------------\n",
      "input_prompt: \n",
      "Generate 5 questions and their responses with example code in Maple language to identify,explain Converting loops to recursion. The level of complexity has to be college student.\n",
      "\n",
      "----------------------------------------------------------------------------------------------------\n",
      "input_prompt: \n",
      "Generate 5 questions and their responses with example code in Idris language to identify,explain Converting loops to recursion. The level of complexity has to be extreme difficult.\n",
      "\n"
     ]
    },
    {
     "name": "stderr",
     "output_type": "stream",
     "text": [
      " 21%|██        | 37/180 [32:23<1:58:30, 49.73s/it]"
     ]
    },
    {
     "name": "stdout",
     "output_type": "stream",
     "text": [
      "----------------------------------------------------------------------------------------------------\n",
      "####################################################################################################\n",
      "Time taken for a L3 task for a single language for a single difficulty level: 49.44102430343628\n",
      "input_prompt: \n",
      "Generate 5 questions and their responses with example code in Protocol-buffer language to identify,explain Refactoring for readability. The level of complexity has to be high school student.\n",
      "\n",
      "----------------------------------------------------------------------------------------------------\n",
      "input_prompt: \n",
      "Generate 5 questions and their responses with example code in Dart language to identify,explain Refactoring for readability. The level of complexity has to be college student.\n",
      "\n",
      "----------------------------------------------------------------------------------------------------\n",
      "input_prompt: \n",
      "Generate 5 questions and their responses with example code in Vhdl language to identify,explain Refactoring for readability. The level of complexity has to be extreme difficult.\n",
      "\n"
     ]
    },
    {
     "name": "stderr",
     "output_type": "stream",
     "text": [
      " 21%|██        | 38/180 [33:30<2:09:59, 54.93s/it]"
     ]
    },
    {
     "name": "stdout",
     "output_type": "stream",
     "text": [
      "----------------------------------------------------------------------------------------------------\n",
      "####################################################################################################\n",
      "Time taken for a L3 task for a single language for a single difficulty level: 67.0582857131958\n",
      "input_prompt: \n",
      "Generate 5 questions and their responses with example code in Prolog language to identify,explain Refactoring for performance. The level of complexity has to be high school student.\n",
      "\n",
      "----------------------------------------------------------------------------------------------------\n",
      "input_prompt: \n",
      "Generate 5 questions and their responses with example code in Smalltalk language to identify,explain Refactoring for performance. The level of complexity has to be college student.\n",
      "\n",
      "----------------------------------------------------------------------------------------------------\n",
      "input_prompt: \n",
      "Generate 5 questions and their responses with example code in Xslt language to identify,explain Refactoring for performance. The level of complexity has to be extreme difficult.\n",
      "\n"
     ]
    },
    {
     "name": "stderr",
     "output_type": "stream",
     "text": [
      " 22%|██▏       | 39/180 [34:34<2:15:03, 57.47s/it]"
     ]
    },
    {
     "name": "stdout",
     "output_type": "stream",
     "text": [
      "----------------------------------------------------------------------------------------------------\n",
      "####################################################################################################\n",
      "Time taken for a L3 task for a single language for a single difficulty level: 63.414992809295654\n",
      "input_prompt: \n",
      "Generate 5 questions and their responses with example code in Batchfile language to identify,explain Standardization of code format. The level of complexity has to be high school student.\n",
      "\n",
      "----------------------------------------------------------------------------------------------------\n",
      "input_prompt: \n",
      "Generate 5 questions and their responses with example code in Kotlin language to identify,explain Standardization of code format. The level of complexity has to be college student.\n",
      "\n",
      "----------------------------------------------------------------------------------------------------\n",
      "input_prompt: \n",
      "Generate 5 questions and their responses with example code in Sparql language to identify,explain Standardization of code format. The level of complexity has to be extreme difficult.\n",
      "\n"
     ]
    },
    {
     "name": "stderr",
     "output_type": "stream",
     "text": [
      " 22%|██▏       | 40/180 [35:21<2:07:06, 54.48s/it]"
     ]
    },
    {
     "name": "stdout",
     "output_type": "stream",
     "text": [
      "----------------------------------------------------------------------------------------------------\n",
      "####################################################################################################\n",
      "Time taken for a L3 task for a single language for a single difficulty level: 47.485196352005005\n",
      "input_prompt: \n",
      "Generate 5 questions and their responses with example code in Perl language to identify,explain Linux/Mac/Windows common CLI tasks. The level of complexity has to be high school student.\n",
      "\n",
      "----------------------------------------------------------------------------------------------------\n",
      "input_prompt: \n",
      "Generate 5 questions and their responses with example code in R language to identify,explain Linux/Mac/Windows common CLI tasks. The level of complexity has to be college student.\n",
      "\n",
      "----------------------------------------------------------------------------------------------------\n",
      "input_prompt: \n",
      "Generate 5 questions and their responses with example code in Restructuredtext language to identify,explain Linux/Mac/Windows common CLI tasks. The level of complexity has to be extreme difficult.\n",
      "\n"
     ]
    },
    {
     "name": "stderr",
     "output_type": "stream",
     "text": [
      " 23%|██▎       | 41/180 [36:06<1:59:21, 51.52s/it]"
     ]
    },
    {
     "name": "stdout",
     "output_type": "stream",
     "text": [
      "----------------------------------------------------------------------------------------------------\n",
      "####################################################################################################\n",
      "Time taken for a L3 task for a single language for a single difficulty level: 44.63146615028381\n",
      "input_prompt: \n",
      "Generate 5 questions and their responses with example code in Html language to identify,explain CLI package management. The level of complexity has to be high school student.\n",
      "\n",
      "----------------------------------------------------------------------------------------------------\n",
      "input_prompt: \n",
      "Generate 5 questions and their responses with example code in Objectc++ language to identify,explain CLI package management. The level of complexity has to be college student.\n",
      "\n",
      "----------------------------------------------------------------------------------------------------\n",
      "input_prompt: \n",
      "Generate 5 questions and their responses with example code in Racket language to identify,explain CLI package management. The level of complexity has to be extreme difficult.\n",
      "\n"
     ]
    },
    {
     "name": "stderr",
     "output_type": "stream",
     "text": [
      " 23%|██▎       | 42/180 [37:00<2:00:16, 52.29s/it]"
     ]
    },
    {
     "name": "stdout",
     "output_type": "stream",
     "text": [
      "----------------------------------------------------------------------------------------------------\n",
      "####################################################################################################\n",
      "Time taken for a L3 task for a single language for a single difficulty level: 54.09181499481201\n",
      "input_prompt: \n",
      "Generate 5 questions and their responses with example code in Makefile language to identify,explain Software development environment config. The level of complexity has to be high school student.\n",
      "\n",
      "----------------------------------------------------------------------------------------------------\n",
      "input_prompt: \n",
      "Generate 5 questions and their responses with example code in Tcl language to identify,explain Software development environment config. The level of complexity has to be college student.\n",
      "\n",
      "----------------------------------------------------------------------------------------------------\n",
      "input_prompt: \n",
      "Generate 5 questions and their responses with example code in Java-server-pages language to identify,explain Software development environment config. The level of complexity has to be extreme difficult.\n",
      "\n"
     ]
    },
    {
     "name": "stderr",
     "output_type": "stream",
     "text": [
      " 24%|██▍       | 43/180 [37:58<2:03:19, 54.01s/it]"
     ]
    },
    {
     "name": "stdout",
     "output_type": "stream",
     "text": [
      "----------------------------------------------------------------------------------------------------\n",
      "####################################################################################################\n",
      "Time taken for a L3 task for a single language for a single difficulty level: 58.006613969802856\n",
      "input_prompt: \n",
      "Generate 5 questions and their responses with example code in Tex language to identify,explain Automated script generation. The level of complexity has to be high school student.\n",
      "\n",
      "----------------------------------------------------------------------------------------------------\n",
      "input_prompt: \n",
      "Generate 5 questions and their responses with example code in Racket language to identify,explain Automated script generation. The level of complexity has to be college student.\n",
      "\n",
      "----------------------------------------------------------------------------------------------------\n",
      "input_prompt: \n",
      "Generate 5 questions and their responses with example code in Elixir language to identify,explain Automated script generation. The level of complexity has to be extreme difficult.\n",
      "\n"
     ]
    },
    {
     "name": "stderr",
     "output_type": "stream",
     "text": [
      " 24%|██▍       | 44/180 [38:59<2:07:11, 56.11s/it]"
     ]
    },
    {
     "name": "stdout",
     "output_type": "stream",
     "text": [
      "----------------------------------------------------------------------------------------------------\n",
      "####################################################################################################\n",
      "Time taken for a L3 task for a single language for a single difficulty level: 61.027225971221924\n",
      "input_prompt: \n",
      "Generate 5 questions and their responses with example code in Isabelle language to identify,explain Environment setup automation. The level of complexity has to be high school student.\n",
      "\n",
      "----------------------------------------------------------------------------------------------------\n",
      "input_prompt: \n",
      "Generate 5 questions and their responses with example code in Json language to identify,explain Environment setup automation. The level of complexity has to be college student.\n",
      "\n",
      "----------------------------------------------------------------------------------------------------\n",
      "input_prompt: \n",
      "Generate 5 questions and their responses with example code in Erlang language to identify,explain Environment setup automation. The level of complexity has to be extreme difficult.\n",
      "\n"
     ]
    },
    {
     "name": "stderr",
     "output_type": "stream",
     "text": [
      " 25%|██▌       | 45/180 [39:44<1:58:49, 52.81s/it]"
     ]
    },
    {
     "name": "stdout",
     "output_type": "stream",
     "text": [
      "----------------------------------------------------------------------------------------------------\n",
      "####################################################################################################\n",
      "Time taken for a L3 task for a single language for a single difficulty level: 45.09418964385986\n",
      "input_prompt: \n",
      "Generate 5 questions and their responses with example code in Glsl language to identify,explain CLI shortcuts. The level of complexity has to be high school student.\n",
      "\n",
      "----------------------------------------------------------------------------------------------------\n",
      "input_prompt: \n",
      "Generate 5 questions and their responses with example code in Ada language to identify,explain CLI shortcuts. The level of complexity has to be college student.\n",
      "\n",
      "----------------------------------------------------------------------------------------------------\n",
      "input_prompt: \n",
      "Generate 5 questions and their responses with example code in Java language to identify,explain CLI shortcuts. The level of complexity has to be extreme difficult.\n",
      "\n"
     ]
    },
    {
     "name": "stderr",
     "output_type": "stream",
     "text": [
      " 26%|██▌       | 46/180 [40:31<1:54:12, 51.14s/it]"
     ]
    },
    {
     "name": "stdout",
     "output_type": "stream",
     "text": [
      "----------------------------------------------------------------------------------------------------\n",
      "####################################################################################################\n",
      "Time taken for a L3 task for a single language for a single difficulty level: 47.23967742919922\n",
      "input_prompt: \n",
      "Generate 5 questions and their responses with example code in Clojure language to identify,explain CLI for cloud management. The level of complexity has to be high school student.\n",
      "\n",
      "----------------------------------------------------------------------------------------------------\n",
      "input_prompt: \n",
      "Generate 5 questions and their responses with example code in Coffeescript language to identify,explain CLI for cloud management. The level of complexity has to be college student.\n",
      "\n",
      "----------------------------------------------------------------------------------------------------\n",
      "input_prompt: \n",
      "Generate 5 questions and their responses with example code in Glsl language to identify,explain CLI for cloud management. The level of complexity has to be extreme difficult.\n",
      "\n"
     ]
    },
    {
     "name": "stderr",
     "output_type": "stream",
     "text": [
      " 26%|██▌       | 47/180 [41:24<1:54:16, 51.55s/it]"
     ]
    },
    {
     "name": "stdout",
     "output_type": "stream",
     "text": [
      "----------------------------------------------------------------------------------------------------\n",
      "####################################################################################################\n",
      "Time taken for a L3 task for a single language for a single difficulty level: 52.51642060279846\n",
      "input_prompt: \n",
      "Generate 5 questions and their responses with example code in Yaml language to identify,explain CLI tools for network troubleshooting. The level of complexity has to be high school student.\n",
      "\n",
      "----------------------------------------------------------------------------------------------------\n",
      "input_prompt: \n",
      "Generate 5 questions and their responses with example code in Typescript language to identify,explain CLI tools for network troubleshooting. The level of complexity has to be college student.\n",
      "\n",
      "----------------------------------------------------------------------------------------------------\n",
      "input_prompt: \n",
      "Generate 5 questions and their responses with example code in Glsl language to identify,explain CLI tools for network troubleshooting. The level of complexity has to be extreme difficult.\n",
      "\n"
     ]
    },
    {
     "name": "stderr",
     "output_type": "stream",
     "text": [
      " 27%|██▋       | 48/180 [42:13<1:51:28, 50.67s/it]"
     ]
    },
    {
     "name": "stdout",
     "output_type": "stream",
     "text": [
      "----------------------------------------------------------------------------------------------------\n",
      "####################################################################################################\n",
      "Time taken for a L3 task for a single language for a single difficulty level: 48.62120175361633\n",
      "input_prompt: \n",
      "Generate 5 questions and their responses with example code in Prolog language to identify,explain Command line data processing. The level of complexity has to be high school student.\n",
      "\n",
      "----------------------------------------------------------------------------------------------------\n",
      "input_prompt: \n",
      "Generate 5 questions and their responses with example code in Awk language to identify,explain Command line data processing. The level of complexity has to be college student.\n",
      "\n",
      "----------------------------------------------------------------------------------------------------\n",
      "input_prompt: \n",
      "Generate 5 questions and their responses with example code in Objectc++ language to identify,explain Command line data processing. The level of complexity has to be extreme difficult.\n",
      "\n"
     ]
    },
    {
     "name": "stderr",
     "output_type": "stream",
     "text": [
      " 27%|██▋       | 49/180 [43:13<1:56:41, 53.44s/it]"
     ]
    },
    {
     "name": "stdout",
     "output_type": "stream",
     "text": [
      "----------------------------------------------------------------------------------------------------\n",
      "####################################################################################################\n",
      "Time taken for a L3 task for a single language for a single difficulty level: 59.911715030670166\n",
      "input_prompt: \n",
      "Generate 5 questions and their responses with example code in Tcl language to identify,explain Shell script optimization. The level of complexity has to be high school student.\n",
      "\n",
      "----------------------------------------------------------------------------------------------------\n",
      "input_prompt: \n",
      "Generate 5 questions and their responses with example code in Racket language to identify,explain Shell script optimization. The level of complexity has to be college student.\n",
      "\n",
      "----------------------------------------------------------------------------------------------------\n",
      "input_prompt: \n",
      "Generate 5 questions and their responses with example code in Scheme language to identify,explain Shell script optimization. The level of complexity has to be extreme difficult.\n",
      "\n"
     ]
    },
    {
     "name": "stderr",
     "output_type": "stream",
     "text": [
      " 28%|██▊       | 50/180 [43:51<1:46:21, 49.09s/it]"
     ]
    },
    {
     "name": "stdout",
     "output_type": "stream",
     "text": [
      "----------------------------------------------------------------------------------------------------\n",
      "####################################################################################################\n",
      "Time taken for a L3 task for a single language for a single difficulty level: 38.931400775909424\n",
      "input_prompt: \n",
      "Generate 5 questions and their responses with example code in Jupyter-notebook language to identify,explain Package management (for all languages). The level of complexity has to be high school student.\n",
      "\n",
      "----------------------------------------------------------------------------------------------------\n",
      "input_prompt: \n",
      "Generate 5 questions and their responses with example code in Fortran language to identify,explain Package management (for all languages). The level of complexity has to be college student.\n",
      "\n",
      "----------------------------------------------------------------------------------------------------\n",
      "input_prompt: \n",
      "Generate 5 questions and their responses with example code in Haskell language to identify,explain Package management (for all languages). The level of complexity has to be extreme difficult.\n",
      "\n"
     ]
    },
    {
     "name": "stderr",
     "output_type": "stream",
     "text": [
      " 28%|██▊       | 51/180 [44:47<1:49:34, 50.96s/it]"
     ]
    },
    {
     "name": "stdout",
     "output_type": "stream",
     "text": [
      "----------------------------------------------------------------------------------------------------\n",
      "####################################################################################################\n",
      "Time taken for a L3 task for a single language for a single difficulty level: 55.33642387390137\n",
      "input_prompt: \n",
      "Generate 5 questions and their responses with example code in Lua language to identify,explain Code repository management. The level of complexity has to be high school student.\n",
      "\n",
      "----------------------------------------------------------------------------------------------------\n",
      "input_prompt: \n",
      "Generate 5 questions and their responses with example code in Racket language to identify,explain Code repository management. The level of complexity has to be college student.\n",
      "\n",
      "----------------------------------------------------------------------------------------------------\n",
      "input_prompt: \n",
      "Generate 5 questions and their responses with example code in Cmake language to identify,explain Code repository management. The level of complexity has to be extreme difficult.\n",
      "\n"
     ]
    },
    {
     "name": "stderr",
     "output_type": "stream",
     "text": [
      " 29%|██▉       | 52/180 [45:32<1:45:15, 49.34s/it]"
     ]
    },
    {
     "name": "stdout",
     "output_type": "stream",
     "text": [
      "----------------------------------------------------------------------------------------------------\n",
      "####################################################################################################\n",
      "Time taken for a L3 task for a single language for a single difficulty level: 45.537681102752686\n",
      "input_prompt: \n",
      "Generate 5 questions and their responses with example code in Lean language to identify,explain Integration with IDEs. The level of complexity has to be high school student.\n",
      "\n",
      "----------------------------------------------------------------------------------------------------\n",
      "input_prompt: \n",
      "Generate 5 questions and their responses with example code in C# language to identify,explain Integration with IDEs. The level of complexity has to be college student.\n",
      "\n",
      "----------------------------------------------------------------------------------------------------\n",
      "input_prompt: \n",
      "Generate 5 questions and their responses with example code in Go language to identify,explain Integration with IDEs. The level of complexity has to be extreme difficult.\n",
      "\n"
     ]
    },
    {
     "name": "stderr",
     "output_type": "stream",
     "text": [
      " 29%|██▉       | 53/180 [46:24<1:46:12, 50.18s/it]"
     ]
    },
    {
     "name": "stdout",
     "output_type": "stream",
     "text": [
      "----------------------------------------------------------------------------------------------------\n",
      "####################################################################################################\n",
      "Time taken for a L3 task for a single language for a single difficulty level: 52.14994478225708\n",
      "input_prompt: \n",
      "Generate 5 questions and their responses with example code in Rmarkdown language to identify,explain Build automation. The level of complexity has to be high school student.\n",
      "\n",
      "----------------------------------------------------------------------------------------------------\n",
      "input_prompt: \n",
      "Generate 5 questions and their responses with example code in Cuda language to identify,explain Build automation. The level of complexity has to be college student.\n",
      "\n",
      "----------------------------------------------------------------------------------------------------\n",
      "input_prompt: \n",
      "Generate 5 questions and their responses with example code in Html language to identify,explain Build automation. The level of complexity has to be extreme difficult.\n",
      "\n"
     ]
    },
    {
     "name": "stderr",
     "output_type": "stream",
     "text": [
      " 30%|███       | 54/180 [47:18<1:47:12, 51.05s/it]"
     ]
    },
    {
     "name": "stdout",
     "output_type": "stream",
     "text": [
      "----------------------------------------------------------------------------------------------------\n",
      "####################################################################################################\n",
      "Time taken for a L3 task for a single language for a single difficulty level: 53.09229230880737\n",
      "input_prompt: \n",
      "Generate 5 questions and their responses with example code in Common-lisp language to identify,explain Dependency resolution. The level of complexity has to be high school student.\n",
      "\n",
      "----------------------------------------------------------------------------------------------------\n",
      "input_prompt: \n",
      "Generate 5 questions and their responses with example code in Fortran language to identify,explain Dependency resolution. The level of complexity has to be college student.\n",
      "\n",
      "----------------------------------------------------------------------------------------------------\n",
      "input_prompt: \n",
      "Generate 5 questions and their responses with example code in Json language to identify,explain Dependency resolution. The level of complexity has to be extreme difficult.\n",
      "\n"
     ]
    },
    {
     "name": "stderr",
     "output_type": "stream",
     "text": [
      " 31%|███       | 55/180 [48:32<2:01:10, 58.17s/it]"
     ]
    },
    {
     "name": "stdout",
     "output_type": "stream",
     "text": [
      "----------------------------------------------------------------------------------------------------\n",
      "####################################################################################################\n",
      "Time taken for a L3 task for a single language for a single difficulty level: 74.75527000427246\n",
      "input_prompt: \n",
      "Generate 5 questions and their responses with example code in Prolog language to identify,explain Cross-platform compatibility checks. The level of complexity has to be high school student.\n",
      "\n",
      "----------------------------------------------------------------------------------------------------\n",
      "input_prompt: \n",
      "Generate 5 questions and their responses with example code in Applescript language to identify,explain Cross-platform compatibility checks. The level of complexity has to be college student.\n",
      "\n",
      "----------------------------------------------------------------------------------------------------\n",
      "input_prompt: \n",
      "Generate 5 questions and their responses with example code in Tcsh language to identify,explain Cross-platform compatibility checks. The level of complexity has to be extreme difficult.\n",
      "\n"
     ]
    },
    {
     "name": "stderr",
     "output_type": "stream",
     "text": [
      " 31%|███       | 56/180 [49:14<1:50:13, 53.34s/it]"
     ]
    },
    {
     "name": "stdout",
     "output_type": "stream",
     "text": [
      "----------------------------------------------------------------------------------------------------\n",
      "####################################################################################################\n",
      "Time taken for a L3 task for a single language for a single difficulty level: 42.06618142127991\n",
      "input_prompt: \n",
      "Generate 5 questions and their responses with example code in Restructuredtext language to identify,explain Ecosystem migration tools. The level of complexity has to be high school student.\n",
      "\n",
      "----------------------------------------------------------------------------------------------------\n",
      "input_prompt: \n",
      "Generate 5 questions and their responses with example code in Solidity language to identify,explain Ecosystem migration tools. The level of complexity has to be college student.\n",
      "\n",
      "----------------------------------------------------------------------------------------------------\n",
      "input_prompt: \n",
      "Generate 5 questions and their responses with example code in Sql language to identify,explain Ecosystem migration tools. The level of complexity has to be extreme difficult.\n",
      "\n"
     ]
    },
    {
     "name": "stderr",
     "output_type": "stream",
     "text": [
      " 32%|███▏      | 57/180 [50:08<1:49:40, 53.50s/it]"
     ]
    },
    {
     "name": "stdout",
     "output_type": "stream",
     "text": [
      "----------------------------------------------------------------------------------------------------\n",
      "####################################################################################################\n",
      "Time taken for a L3 task for a single language for a single difficulty level: 53.894076108932495\n",
      "input_prompt: \n",
      "Generate 5 questions and their responses with example code in Applescript language to identify,explain Code sharing platforms. The level of complexity has to be high school student.\n",
      "\n",
      "----------------------------------------------------------------------------------------------------\n",
      "input_prompt: \n",
      "Generate 5 questions and their responses with example code in Julia language to identify,explain Code sharing platforms. The level of complexity has to be college student.\n",
      "\n",
      "----------------------------------------------------------------------------------------------------\n",
      "input_prompt: \n",
      "Generate 5 questions and their responses with example code in Cmake language to identify,explain Code sharing platforms. The level of complexity has to be extreme difficult.\n",
      "\n"
     ]
    },
    {
     "name": "stderr",
     "output_type": "stream",
     "text": [
      " 32%|███▏      | 58/180 [50:57<1:46:06, 52.19s/it]"
     ]
    },
    {
     "name": "stdout",
     "output_type": "stream",
     "text": [
      "----------------------------------------------------------------------------------------------------\n",
      "####################################################################################################\n",
      "Time taken for a L3 task for a single language for a single difficulty level: 49.1183135509491\n",
      "input_prompt: \n",
      "Generate 5 questions and their responses with example code in Glsl language to identify,explain Collaborative coding tools. The level of complexity has to be high school student.\n",
      "\n",
      "----------------------------------------------------------------------------------------------------\n",
      "input_prompt: \n",
      "Generate 5 questions and their responses with example code in Emacs-lisp language to identify,explain Collaborative coding tools. The level of complexity has to be college student.\n",
      "\n",
      "----------------------------------------------------------------------------------------------------\n",
      "input_prompt: \n",
      "Generate 5 questions and their responses with example code in Java-server-pages language to identify,explain Collaborative coding tools. The level of complexity has to be extreme difficult.\n",
      "\n"
     ]
    },
    {
     "name": "stderr",
     "output_type": "stream",
     "text": [
      " 33%|███▎      | 59/180 [51:42<1:40:50, 50.00s/it]"
     ]
    },
    {
     "name": "stdout",
     "output_type": "stream",
     "text": [
      "----------------------------------------------------------------------------------------------------\n",
      "####################################################################################################\n",
      "Time taken for a L3 task for a single language for a single difficulty level: 44.89645791053772\n",
      "input_prompt: \n",
      "Generate 5 questions and their responses with example code in Vhdl language to identify,explain Real-time code synchronization. The level of complexity has to be high school student.\n",
      "\n",
      "----------------------------------------------------------------------------------------------------\n",
      "input_prompt: \n",
      "Generate 5 questions and their responses with example code in Scala language to identify,explain Real-time code synchronization. The level of complexity has to be college student.\n",
      "\n",
      "----------------------------------------------------------------------------------------------------\n",
      "input_prompt: \n",
      "Generate 5 questions and their responses with example code in R language to identify,explain Real-time code synchronization. The level of complexity has to be extreme difficult.\n",
      "\n"
     ]
    },
    {
     "name": "stderr",
     "output_type": "stream",
     "text": [
      " 33%|███▎      | 60/180 [52:33<1:40:35, 50.30s/it]"
     ]
    },
    {
     "name": "stdout",
     "output_type": "stream",
     "text": [
      "----------------------------------------------------------------------------------------------------\n",
      "####################################################################################################\n",
      "Time taken for a L3 task for a single language for a single difficulty level: 50.982468128204346\n",
      "input_prompt: \n",
      "Generate 5 questions and their responses with example code in Erlang language to identify,explain Code translation (one from language to another). The level of complexity has to be high school student.\n",
      "\n",
      "----------------------------------------------------------------------------------------------------\n",
      "input_prompt: \n",
      "Generate 5 questions and their responses with example code in Ada language to identify,explain Code translation (one from language to another). The level of complexity has to be college student.\n",
      "\n",
      "----------------------------------------------------------------------------------------------------\n",
      "input_prompt: \n",
      "Generate 5 questions and their responses with example code in Assembly language to identify,explain Code translation (one from language to another). The level of complexity has to be extreme difficult.\n",
      "\n"
     ]
    },
    {
     "name": "stderr",
     "output_type": "stream",
     "text": [
      " 34%|███▍      | 61/180 [53:40<1:49:24, 55.16s/it]"
     ]
    },
    {
     "name": "stdout",
     "output_type": "stream",
     "text": [
      "----------------------------------------------------------------------------------------------------\n",
      "####################################################################################################\n",
      "Time taken for a L3 task for a single language for a single difficulty level: 66.51912641525269\n",
      "input_prompt: \n",
      "Generate 5 questions and their responses with example code in Tex language to identify,explain Cross-language API usage. The level of complexity has to be high school student.\n",
      "\n",
      "----------------------------------------------------------------------------------------------------\n",
      "input_prompt: \n",
      "Generate 5 questions and their responses with example code in Swift language to identify,explain Cross-language API usage. The level of complexity has to be college student.\n",
      "\n",
      "----------------------------------------------------------------------------------------------------\n",
      "input_prompt: \n",
      "Generate 5 questions and their responses with example code in Common-lisp language to identify,explain Cross-language API usage. The level of complexity has to be extreme difficult.\n",
      "\n"
     ]
    },
    {
     "name": "stderr",
     "output_type": "stream",
     "text": [
      " 34%|███▍      | 62/180 [54:45<1:54:22, 58.16s/it]"
     ]
    },
    {
     "name": "stdout",
     "output_type": "stream",
     "text": [
      "----------------------------------------------------------------------------------------------------\n",
      "####################################################################################################\n",
      "Time taken for a L3 task for a single language for a single difficulty level: 65.14299702644348\n",
      "input_prompt: \n",
      "Generate 5 questions and their responses with example code in Sas language to identify,explain Legacy code modernization. The level of complexity has to be high school student.\n",
      "\n",
      "----------------------------------------------------------------------------------------------------\n",
      "input_prompt: \n",
      "Generate 5 questions and their responses with example code in Sas language to identify,explain Legacy code modernization. The level of complexity has to be college student.\n",
      "\n",
      "----------------------------------------------------------------------------------------------------\n",
      "input_prompt: \n",
      "Generate 5 questions and their responses with example code in Applescript language to identify,explain Legacy code modernization. The level of complexity has to be extreme difficult.\n",
      "\n"
     ]
    },
    {
     "name": "stderr",
     "output_type": "stream",
     "text": [
      " 35%|███▌      | 63/180 [55:42<1:52:42, 57.80s/it]"
     ]
    },
    {
     "name": "stdout",
     "output_type": "stream",
     "text": [
      "----------------------------------------------------------------------------------------------------\n",
      "####################################################################################################\n",
      "Time taken for a L3 task for a single language for a single difficulty level: 56.97647953033447\n",
      "input_prompt: \n",
      "Generate 5 questions and their responses with example code in Elixir language to identify,explain Interoperability solutions. The level of complexity has to be high school student.\n",
      "\n",
      "----------------------------------------------------------------------------------------------------\n",
      "input_prompt: \n",
      "Generate 5 questions and their responses with example code in Json language to identify,explain Interoperability solutions. The level of complexity has to be college student.\n",
      "\n",
      "----------------------------------------------------------------------------------------------------\n",
      "input_prompt: \n",
      "Generate 5 questions and their responses with example code in Rmarkdown language to identify,explain Interoperability solutions. The level of complexity has to be extreme difficult.\n",
      "\n"
     ]
    },
    {
     "name": "stderr",
     "output_type": "stream",
     "text": [
      " 36%|███▌      | 64/180 [56:37<1:50:12, 57.01s/it]"
     ]
    },
    {
     "name": "stdout",
     "output_type": "stream",
     "text": [
      "----------------------------------------------------------------------------------------------------\n",
      "####################################################################################################\n",
      "Time taken for a L3 task for a single language for a single difficulty level: 55.14970517158508\n",
      "input_prompt: \n",
      "Generate 5 questions and their responses with example code in Xslt language to identify,explain Scripting to compiled code conversion. The level of complexity has to be high school student.\n",
      "\n",
      "----------------------------------------------------------------------------------------------------\n",
      "input_prompt: \n",
      "Generate 5 questions and their responses with example code in Agda language to identify,explain Scripting to compiled code conversion. The level of complexity has to be college student.\n",
      "\n",
      "----------------------------------------------------------------------------------------------------\n",
      "input_prompt: \n",
      "Generate 5 questions and their responses with example code in Isabelle language to identify,explain Scripting to compiled code conversion. The level of complexity has to be extreme difficult.\n",
      "\n"
     ]
    },
    {
     "name": "stderr",
     "output_type": "stream",
     "text": [
      " 36%|███▌      | 65/180 [57:39<1:52:20, 58.62s/it]"
     ]
    },
    {
     "name": "stdout",
     "output_type": "stream",
     "text": [
      "----------------------------------------------------------------------------------------------------\n",
      "####################################################################################################\n",
      "Time taken for a L3 task for a single language for a single difficulty level: 62.37160634994507\n",
      "input_prompt: \n",
      "Generate 5 questions and their responses with example code in Objectc++ language to identify,explain Automatic code localization. The level of complexity has to be high school student.\n",
      "\n",
      "----------------------------------------------------------------------------------------------------\n",
      "input_prompt: \n",
      "Generate 5 questions and their responses with example code in Literate-haskell language to identify,explain Automatic code localization. The level of complexity has to be college student.\n",
      "\n",
      "----------------------------------------------------------------------------------------------------\n",
      "input_prompt: \n",
      "Generate 5 questions and their responses with example code in Stan language to identify,explain Automatic code localization. The level of complexity has to be extreme difficult.\n",
      "\n"
     ]
    },
    {
     "name": "stderr",
     "output_type": "stream",
     "text": [
      " 37%|███▋      | 66/180 [58:31<1:47:28, 56.56s/it]"
     ]
    },
    {
     "name": "stdout",
     "output_type": "stream",
     "text": [
      "----------------------------------------------------------------------------------------------------\n",
      "####################################################################################################\n",
      "Time taken for a L3 task for a single language for a single difficulty level: 51.7646918296814\n",
      "input_prompt: \n",
      "Generate 5 questions and their responses with example code in Literate-agda language to identify,explain Platform-specific adaptations. The level of complexity has to be high school student.\n",
      "\n",
      "----------------------------------------------------------------------------------------------------\n",
      "input_prompt: \n",
      "Generate 5 questions and their responses with example code in Makefile language to identify,explain Platform-specific adaptations. The level of complexity has to be college student.\n",
      "\n",
      "----------------------------------------------------------------------------------------------------\n",
      "input_prompt: \n",
      "Generate 5 questions and their responses with example code in Antlr language to identify,explain Platform-specific adaptations. The level of complexity has to be extreme difficult.\n",
      "\n"
     ]
    },
    {
     "name": "stderr",
     "output_type": "stream",
     "text": [
      " 37%|███▋      | 67/180 [59:49<1:58:35, 62.97s/it]"
     ]
    },
    {
     "name": "stdout",
     "output_type": "stream",
     "text": [
      "----------------------------------------------------------------------------------------------------\n",
      "####################################################################################################\n",
      "Time taken for a L3 task for a single language for a single difficulty level: 77.90728259086609\n",
      "input_prompt: \n",
      "Generate 5 questions and their responses with example code in Common-lisp language to identify,explain Framework-specific code generation. The level of complexity has to be high school student.\n",
      "\n",
      "----------------------------------------------------------------------------------------------------\n",
      "input_prompt: \n",
      "Generate 5 questions and their responses with example code in Cmake language to identify,explain Framework-specific code generation. The level of complexity has to be college student.\n",
      "\n",
      "----------------------------------------------------------------------------------------------------\n",
      "input_prompt: \n",
      "Generate 5 questions and their responses with example code in R language to identify,explain Framework-specific code generation. The level of complexity has to be extreme difficult.\n",
      "\n"
     ]
    },
    {
     "name": "stderr",
     "output_type": "stream",
     "text": [
      " 38%|███▊      | 68/180 [1:00:45<1:53:17, 60.69s/it]"
     ]
    },
    {
     "name": "stdout",
     "output_type": "stream",
     "text": [
      "----------------------------------------------------------------------------------------------------\n",
      "####################################################################################################\n",
      "Time taken for a L3 task for a single language for a single difficulty level: 55.37724733352661\n",
      "input_prompt: \n",
      "Generate 5 questions and their responses with example code in Glsl language to identify,explain Code porting for different OS. The level of complexity has to be high school student.\n",
      "\n",
      "----------------------------------------------------------------------------------------------------\n",
      "input_prompt: \n",
      "Generate 5 questions and their responses with example code in C++ language to identify,explain Code porting for different OS. The level of complexity has to be college student.\n",
      "\n",
      "----------------------------------------------------------------------------------------------------\n",
      "input_prompt: \n",
      "Generate 5 questions and their responses with example code in C language to identify,explain Code porting for different OS. The level of complexity has to be extreme difficult.\n",
      "\n"
     ]
    },
    {
     "name": "stderr",
     "output_type": "stream",
     "text": [
      " 38%|███▊      | 69/180 [1:01:46<1:52:33, 60.84s/it]"
     ]
    },
    {
     "name": "stdout",
     "output_type": "stream",
     "text": [
      "----------------------------------------------------------------------------------------------------\n",
      "####################################################################################################\n",
      "Time taken for a L3 task for a single language for a single difficulty level: 61.199533462524414\n",
      "input_prompt: \n",
      "Generate 5 questions and their responses with example code in Racket language to identify,explain Multi-language code integration. The level of complexity has to be high school student.\n",
      "\n",
      "----------------------------------------------------------------------------------------------------\n",
      "input_prompt: \n",
      "Generate 5 questions and their responses with example code in Verilog language to identify,explain Multi-language code integration. The level of complexity has to be college student.\n",
      "\n",
      "----------------------------------------------------------------------------------------------------\n",
      "input_prompt: \n",
      "Generate 5 questions and their responses with example code in Rmarkdown language to identify,explain Multi-language code integration. The level of complexity has to be extreme difficult.\n",
      "\n"
     ]
    },
    {
     "name": "stderr",
     "output_type": "stream",
     "text": [
      " 39%|███▉      | 70/180 [1:02:38<1:47:03, 58.40s/it]"
     ]
    },
    {
     "name": "stdout",
     "output_type": "stream",
     "text": [
      "----------------------------------------------------------------------------------------------------\n",
      "####################################################################################################\n",
      "Time taken for a L3 task for a single language for a single difficulty level: 52.69745063781738\n",
      "input_prompt: \n",
      "Generate 5 questions and their responses with example code in Erlang language to identify,explain Writing a javadoc for this function. The level of complexity has to be high school student.\n",
      "\n",
      "----------------------------------------------------------------------------------------------------\n",
      "input_prompt: \n",
      "Generate 5 questions and their responses with example code in Lua language to identify,explain Writing a javadoc for this function. The level of complexity has to be college student.\n",
      "\n",
      "----------------------------------------------------------------------------------------------------\n",
      "input_prompt: \n",
      "Generate 5 questions and their responses with example code in Restructuredtext language to identify,explain Writing a javadoc for this function. The level of complexity has to be extreme difficult.\n",
      "\n"
     ]
    },
    {
     "name": "stderr",
     "output_type": "stream",
     "text": [
      " 39%|███▉      | 71/180 [1:03:44<1:49:49, 60.45s/it]"
     ]
    },
    {
     "name": "stdout",
     "output_type": "stream",
     "text": [
      "----------------------------------------------------------------------------------------------------\n",
      "####################################################################################################\n",
      "Time taken for a L3 task for a single language for a single difficulty level: 65.23381209373474\n",
      "input_prompt: \n",
      "Generate 5 questions and their responses with example code in Makefile language to identify,explain Generating comments based on code logic. The level of complexity has to be high school student.\n",
      "\n",
      "----------------------------------------------------------------------------------------------------\n",
      "input_prompt: \n",
      "Generate 5 questions and their responses with example code in C++ language to identify,explain Generating comments based on code logic. The level of complexity has to be college student.\n",
      "\n",
      "----------------------------------------------------------------------------------------------------\n",
      "input_prompt: \n",
      "Generate 5 questions and their responses with example code in Tex language to identify,explain Generating comments based on code logic. The level of complexity has to be extreme difficult.\n",
      "\n"
     ]
    },
    {
     "name": "stderr",
     "output_type": "stream",
     "text": [
      " 40%|████      | 72/180 [1:04:56<1:55:18, 64.06s/it]"
     ]
    },
    {
     "name": "stdout",
     "output_type": "stream",
     "text": [
      "----------------------------------------------------------------------------------------------------\n",
      "####################################################################################################\n",
      "Time taken for a L3 task for a single language for a single difficulty level: 72.47447037696838\n",
      "input_prompt: \n",
      "Generate 5 questions and their responses with example code in Clojure language to identify,explain Automatic inline comments. The level of complexity has to be high school student.\n",
      "\n",
      "----------------------------------------------------------------------------------------------------\n",
      "input_prompt: \n",
      "Generate 5 questions and their responses with example code in C language to identify,explain Automatic inline comments. The level of complexity has to be college student.\n",
      "\n",
      "----------------------------------------------------------------------------------------------------\n",
      "input_prompt: \n",
      "Generate 5 questions and their responses with example code in Awk language to identify,explain Automatic inline comments. The level of complexity has to be extreme difficult.\n",
      "\n"
     ]
    },
    {
     "name": "stderr",
     "output_type": "stream",
     "text": [
      " 41%|████      | 73/180 [1:05:43<1:45:03, 58.91s/it]"
     ]
    },
    {
     "name": "stdout",
     "output_type": "stream",
     "text": [
      "----------------------------------------------------------------------------------------------------\n",
      "####################################################################################################\n",
      "Time taken for a L3 task for a single language for a single difficulty level: 46.897127628326416\n",
      "input_prompt: \n",
      "Generate 5 questions and their responses with example code in Visual-basic language to identify,explain Updating outdated comments. The level of complexity has to be high school student.\n",
      "\n",
      "----------------------------------------------------------------------------------------------------\n",
      "input_prompt: \n",
      "Generate 5 questions and their responses with example code in Thrift language to identify,explain Updating outdated comments. The level of complexity has to be college student.\n",
      "\n",
      "----------------------------------------------------------------------------------------------------\n",
      "input_prompt: \n",
      "Generate 5 questions and their responses with example code in Elixir language to identify,explain Updating outdated comments. The level of complexity has to be extreme difficult.\n",
      "\n"
     ]
    },
    {
     "name": "stderr",
     "output_type": "stream",
     "text": [
      " 41%|████      | 74/180 [1:07:01<1:54:00, 64.53s/it]"
     ]
    },
    {
     "name": "stdout",
     "output_type": "stream",
     "text": [
      "----------------------------------------------------------------------------------------------------\n",
      "####################################################################################################\n",
      "Time taken for a L3 task for a single language for a single difficulty level: 77.64435410499573\n",
      "input_prompt: \n",
      "Generate 5 questions and their responses with example code in Solidity language to identify,explain Generating comments for algorithms. The level of complexity has to be high school student.\n",
      "\n",
      "----------------------------------------------------------------------------------------------------\n",
      "input_prompt: \n",
      "Generate 5 questions and their responses with example code in Applescript language to identify,explain Generating comments for algorithms. The level of complexity has to be college student.\n",
      "\n",
      "----------------------------------------------------------------------------------------------------\n",
      "input_prompt: \n",
      "Generate 5 questions and their responses with example code in Makefile language to identify,explain Generating comments for algorithms. The level of complexity has to be extreme difficult.\n",
      "\n"
     ]
    },
    {
     "name": "stderr",
     "output_type": "stream",
     "text": [
      " 42%|████▏     | 75/180 [1:08:06<1:53:13, 64.70s/it]"
     ]
    },
    {
     "name": "stdout",
     "output_type": "stream",
     "text": [
      "----------------------------------------------------------------------------------------------------\n",
      "####################################################################################################\n",
      "Time taken for a L3 task for a single language for a single difficulty level: 65.10367894172668\n",
      "input_prompt: \n",
      "Generate 5 questions and their responses with example code in Ada language to identify,explain Comment based on code complexity. The level of complexity has to be high school student.\n",
      "\n",
      "----------------------------------------------------------------------------------------------------\n",
      "input_prompt: \n",
      "Generate 5 questions and their responses with example code in Emacs-lisp language to identify,explain Comment based on code complexity. The level of complexity has to be college student.\n",
      "\n",
      "----------------------------------------------------------------------------------------------------\n",
      "input_prompt: \n",
      "Generate 5 questions and their responses with example code in C# language to identify,explain Comment based on code complexity. The level of complexity has to be extreme difficult.\n",
      "\n"
     ]
    },
    {
     "name": "stderr",
     "output_type": "stream",
     "text": [
      " 42%|████▏     | 76/180 [1:08:46<1:39:24, 57.35s/it]"
     ]
    },
    {
     "name": "stdout",
     "output_type": "stream",
     "text": [
      "----------------------------------------------------------------------------------------------------\n",
      "####################################################################################################\n",
      "Time taken for a L3 task for a single language for a single difficulty level: 40.19163966178894\n",
      "input_prompt: \n",
      "Generate 5 questions and their responses with example code in Maple language to identify,explain Summarizing logical blocks with comments. The level of complexity has to be high school student.\n",
      "\n",
      "----------------------------------------------------------------------------------------------------\n",
      "input_prompt: \n",
      "Generate 5 questions and their responses with example code in Julia language to identify,explain Summarizing logical blocks with comments. The level of complexity has to be college student.\n",
      "\n",
      "----------------------------------------------------------------------------------------------------\n",
      "input_prompt: \n",
      "Generate 5 questions and their responses with example code in Vhdl language to identify,explain Summarizing logical blocks with comments. The level of complexity has to be extreme difficult.\n",
      "\n"
     ]
    },
    {
     "name": "stderr",
     "output_type": "stream",
     "text": [
      " 43%|████▎     | 77/180 [1:09:56<1:44:50, 61.07s/it]"
     ]
    },
    {
     "name": "stdout",
     "output_type": "stream",
     "text": [
      "----------------------------------------------------------------------------------------------------\n",
      "####################################################################################################\n",
      "Time taken for a L3 task for a single language for a single difficulty level: 69.74661779403687\n",
      "input_prompt: \n",
      "Generate 5 questions and their responses with example code in F# language to identify,explain Code annotation for review. The level of complexity has to be high school student.\n",
      "\n",
      "----------------------------------------------------------------------------------------------------\n",
      "input_prompt: \n",
      "Generate 5 questions and their responses with example code in Yaml language to identify,explain Code annotation for review. The level of complexity has to be college student.\n",
      "\n",
      "----------------------------------------------------------------------------------------------------\n",
      "input_prompt: \n",
      "Generate 5 questions and their responses with example code in Powershell language to identify,explain Code annotation for review. The level of complexity has to be extreme difficult.\n",
      "\n"
     ]
    },
    {
     "name": "stderr",
     "output_type": "stream",
     "text": [
      " 43%|████▎     | 78/180 [1:10:50<1:40:28, 59.10s/it]"
     ]
    },
    {
     "name": "stdout",
     "output_type": "stream",
     "text": [
      "----------------------------------------------------------------------------------------------------\n",
      "####################################################################################################\n",
      "Time taken for a L3 task for a single language for a single difficulty level: 54.50930738449097\n",
      "input_prompt: \n",
      "Generate 5 questions and their responses with example code in Cmake language to identify,explain Extracting and commenting critical sections. The level of complexity has to be high school student.\n",
      "\n",
      "----------------------------------------------------------------------------------------------------\n",
      "input_prompt: \n",
      "Generate 5 questions and their responses with example code in Lean language to identify,explain Extracting and commenting critical sections. The level of complexity has to be college student.\n",
      "\n",
      "----------------------------------------------------------------------------------------------------\n",
      "input_prompt: \n",
      "Generate 5 questions and their responses with example code in Julia language to identify,explain Extracting and commenting critical sections. The level of complexity has to be extreme difficult.\n",
      "\n"
     ]
    },
    {
     "name": "stderr",
     "output_type": "stream",
     "text": [
      " 44%|████▍     | 79/180 [1:11:44<1:36:57, 57.60s/it]"
     ]
    },
    {
     "name": "stdout",
     "output_type": "stream",
     "text": [
      "----------------------------------------------------------------------------------------------------\n",
      "####################################################################################################\n",
      "Time taken for a L3 task for a single language for a single difficulty level: 54.08167219161987\n",
      "input_prompt: \n",
      "Generate 5 questions and their responses with example code in Clojure language to identify,explain Tool-generated comment consistency check. The level of complexity has to be high school student.\n",
      "\n",
      "----------------------------------------------------------------------------------------------------\n",
      "input_prompt: \n",
      "Generate 5 questions and their responses with example code in Bluespec language to identify,explain Tool-generated comment consistency check. The level of complexity has to be college student.\n",
      "\n",
      "----------------------------------------------------------------------------------------------------\n",
      "input_prompt: \n",
      "Generate 5 questions and their responses with example code in Thrift language to identify,explain Tool-generated comment consistency check. The level of complexity has to be extreme difficult.\n",
      "\n"
     ]
    },
    {
     "name": "stderr",
     "output_type": "stream",
     "text": [
      " 44%|████▍     | 80/180 [1:12:37<1:33:35, 56.16s/it]"
     ]
    },
    {
     "name": "stdout",
     "output_type": "stream",
     "text": [
      "----------------------------------------------------------------------------------------------------\n",
      "####################################################################################################\n",
      "Time taken for a L3 task for a single language for a single difficulty level: 52.80601644515991\n",
      "input_prompt: \n",
      "Generate 5 questions and their responses with example code in Sql language to identify,explain Creating a descriptive and useful commit text for a code commit. The level of complexity has to be high school student.\n",
      "\n",
      "----------------------------------------------------------------------------------------------------\n",
      "input_prompt: \n",
      "Generate 5 questions and their responses with example code in Jupyter-notebook language to identify,explain Creating a descriptive and useful commit text for a code commit. The level of complexity has to be college student.\n",
      "\n",
      "----------------------------------------------------------------------------------------------------\n",
      "input_prompt: \n",
      "Generate 5 questions and their responses with example code in Tcl language to identify,explain Creating a descriptive and useful commit text for a code commit. The level of complexity has to be extreme difficult.\n",
      "\n"
     ]
    },
    {
     "name": "stderr",
     "output_type": "stream",
     "text": [
      " 45%|████▌     | 81/180 [1:13:12<1:21:58, 49.68s/it]"
     ]
    },
    {
     "name": "stdout",
     "output_type": "stream",
     "text": [
      "----------------------------------------------------------------------------------------------------\n",
      "####################################################################################################\n",
      "Time taken for a L3 task for a single language for a single difficulty level: 34.556384801864624\n",
      "input_prompt: \n",
      "Generate 5 questions and their responses with example code in Dockerfile language to identify,explain Automatic commit classification. The level of complexity has to be high school student.\n",
      "\n",
      "----------------------------------------------------------------------------------------------------\n",
      "input_prompt: \n",
      "Generate 5 questions and their responses with example code in Dockerfile language to identify,explain Automatic commit classification. The level of complexity has to be college student.\n",
      "\n",
      "----------------------------------------------------------------------------------------------------\n",
      "input_prompt: \n",
      "Generate 5 questions and their responses with example code in Kotlin language to identify,explain Automatic commit classification. The level of complexity has to be extreme difficult.\n",
      "\n"
     ]
    },
    {
     "name": "stderr",
     "output_type": "stream",
     "text": [
      " 46%|████▌     | 82/180 [1:13:48<1:14:44, 45.76s/it]"
     ]
    },
    {
     "name": "stdout",
     "output_type": "stream",
     "text": [
      "----------------------------------------------------------------------------------------------------\n",
      "####################################################################################################\n",
      "Time taken for a L3 task for a single language for a single difficulty level: 36.613433599472046\n",
      "input_prompt: \n",
      "Generate 5 questions and their responses with example code in Elm language to identify,explain Semantic commit messaging. The level of complexity has to be high school student.\n",
      "\n",
      "----------------------------------------------------------------------------------------------------\n",
      "input_prompt: \n",
      "Generate 5 questions and their responses with example code in Bluespec language to identify,explain Semantic commit messaging. The level of complexity has to be college student.\n",
      "\n",
      "----------------------------------------------------------------------------------------------------\n",
      "input_prompt: \n",
      "Generate 5 questions and their responses with example code in Yaml language to identify,explain Semantic commit messaging. The level of complexity has to be extreme difficult.\n",
      "\n"
     ]
    },
    {
     "name": "stderr",
     "output_type": "stream",
     "text": [
      " 46%|████▌     | 83/180 [1:14:39<1:16:23, 47.26s/it]"
     ]
    },
    {
     "name": "stdout",
     "output_type": "stream",
     "text": [
      "----------------------------------------------------------------------------------------------------\n",
      "####################################################################################################\n",
      "Time taken for a L3 task for a single language for a single difficulty level: 50.74810457229614\n",
      "input_prompt: \n",
      "Generate 5 questions and their responses with example code in Groovy language to identify,explain Code Commit message templates. The level of complexity has to be high school student.\n",
      "\n",
      "----------------------------------------------------------------------------------------------------\n",
      "input_prompt: \n",
      "Generate 5 questions and their responses with example code in Powershell language to identify,explain Code Commit message templates. The level of complexity has to be college student.\n",
      "\n",
      "----------------------------------------------------------------------------------------------------\n",
      "input_prompt: \n",
      "Generate 5 questions and their responses with example code in Coffeescript language to identify,explain Code Commit message templates. The level of complexity has to be extreme difficult.\n",
      "\n"
     ]
    },
    {
     "name": "stderr",
     "output_type": "stream",
     "text": [
      " 47%|████▋     | 84/180 [1:15:35<1:19:52, 49.92s/it]"
     ]
    },
    {
     "name": "stdout",
     "output_type": "stream",
     "text": [
      "----------------------------------------------------------------------------------------------------\n",
      "####################################################################################################\n",
      "Time taken for a L3 task for a single language for a single difficulty level: 56.13080835342407\n",
      "input_prompt: \n",
      "Generate 5 questions and their responses with example code in Html language to identify,explain Version control integration for commit messages. The level of complexity has to be high school student.\n",
      "\n",
      "----------------------------------------------------------------------------------------------------\n",
      "input_prompt: \n",
      "Generate 5 questions and their responses with example code in Css language to identify,explain Version control integration for commit messages. The level of complexity has to be college student.\n",
      "\n",
      "----------------------------------------------------------------------------------------------------\n",
      "input_prompt: \n",
      "Generate 5 questions and their responses with example code in Racket language to identify,explain Version control integration for commit messages. The level of complexity has to be extreme difficult.\n",
      "\n"
     ]
    },
    {
     "name": "stderr",
     "output_type": "stream",
     "text": [
      " 47%|████▋     | 85/180 [1:16:41<1:26:23, 54.57s/it]"
     ]
    },
    {
     "name": "stdout",
     "output_type": "stream",
     "text": [
      "----------------------------------------------------------------------------------------------------\n",
      "####################################################################################################\n",
      "Time taken for a L3 task for a single language for a single difficulty level: 65.41337156295776\n",
      "input_prompt: \n",
      "Generate 5 questions and their responses with example code in Ocaml language to identify,explain Multi-language commit support. The level of complexity has to be high school student.\n",
      "\n",
      "----------------------------------------------------------------------------------------------------\n",
      "input_prompt: \n",
      "Generate 5 questions and their responses with example code in Json language to identify,explain Multi-language commit support. The level of complexity has to be college student.\n",
      "\n",
      "----------------------------------------------------------------------------------------------------\n",
      "input_prompt: \n",
      "Generate 5 questions and their responses with example code in Restructuredtext language to identify,explain Multi-language commit support. The level of complexity has to be extreme difficult.\n",
      "\n"
     ]
    },
    {
     "name": "stderr",
     "output_type": "stream",
     "text": [
      " 48%|████▊     | 86/180 [1:17:25<1:20:34, 51.43s/it]"
     ]
    },
    {
     "name": "stdout",
     "output_type": "stream",
     "text": [
      "----------------------------------------------------------------------------------------------------\n",
      "####################################################################################################\n",
      "Time taken for a L3 task for a single language for a single difficulty level: 44.11542558670044\n",
      "input_prompt: \n",
      "Generate 5 questions and their responses with example code in Glsl language to identify,explain Code Commit summarization for changelogs. The level of complexity has to be high school student.\n",
      "\n",
      "----------------------------------------------------------------------------------------------------\n",
      "input_prompt: \n",
      "Generate 5 questions and their responses with example code in R language to identify,explain Code Commit summarization for changelogs. The level of complexity has to be college student.\n",
      "\n",
      "----------------------------------------------------------------------------------------------------\n",
      "input_prompt: \n",
      "Generate 5 questions and their responses with example code in Matlab language to identify,explain Code Commit summarization for changelogs. The level of complexity has to be extreme difficult.\n",
      "\n"
     ]
    },
    {
     "name": "stderr",
     "output_type": "stream",
     "text": [
      " 48%|████▊     | 87/180 [1:18:27<1:24:43, 54.66s/it]"
     ]
    },
    {
     "name": "stdout",
     "output_type": "stream",
     "text": [
      "----------------------------------------------------------------------------------------------------\n",
      "####################################################################################################\n",
      "Time taken for a L3 task for a single language for a single difficulty level: 62.20717430114746\n",
      "input_prompt: \n",
      "Generate 5 questions and their responses with example code in Agda language to identify,explain Context-aware commit suggestions. The level of complexity has to be high school student.\n",
      "\n",
      "----------------------------------------------------------------------------------------------------\n",
      "input_prompt: \n",
      "Generate 5 questions and their responses with example code in Haskell language to identify,explain Context-aware commit suggestions. The level of complexity has to be college student.\n",
      "\n",
      "----------------------------------------------------------------------------------------------------\n",
      "input_prompt: \n",
      "Generate 5 questions and their responses with example code in Alloy language to identify,explain Context-aware commit suggestions. The level of complexity has to be extreme difficult.\n",
      "\n"
     ]
    },
    {
     "name": "stderr",
     "output_type": "stream",
     "text": [
      " 49%|████▉     | 88/180 [1:19:26<1:25:42, 55.90s/it]"
     ]
    },
    {
     "name": "stdout",
     "output_type": "stream",
     "text": [
      "----------------------------------------------------------------------------------------------------\n",
      "####################################################################################################\n",
      "Time taken for a L3 task for a single language for a single difficulty level: 58.78222727775574\n",
      "input_prompt: \n",
      "Generate 5 questions and their responses with example code in Batchfile language to identify,explain Feature-specific commit messages. The level of complexity has to be high school student.\n",
      "\n",
      "----------------------------------------------------------------------------------------------------\n",
      "input_prompt: \n",
      "Generate 5 questions and their responses with example code in Erlang language to identify,explain Feature-specific commit messages. The level of complexity has to be college student.\n",
      "\n",
      "----------------------------------------------------------------------------------------------------\n",
      "input_prompt: \n",
      "Generate 5 questions and their responses with example code in Rust language to identify,explain Feature-specific commit messages. The level of complexity has to be extreme difficult.\n",
      "\n"
     ]
    },
    {
     "name": "stderr",
     "output_type": "stream",
     "text": [
      " 49%|████▉     | 89/180 [1:20:11<1:19:59, 52.74s/it]"
     ]
    },
    {
     "name": "stdout",
     "output_type": "stream",
     "text": [
      "----------------------------------------------------------------------------------------------------\n",
      "####################################################################################################\n",
      "Time taken for a L3 task for a single language for a single difficulty level: 45.37203574180603\n",
      "input_prompt: \n",
      "Generate 5 questions and their responses with example code in Perl language to identify,explain Code Commit message consistency checker. The level of complexity has to be high school student.\n",
      "\n",
      "----------------------------------------------------------------------------------------------------\n",
      "input_prompt: \n",
      "Generate 5 questions and their responses with example code in Dart language to identify,explain Code Commit message consistency checker. The level of complexity has to be college student.\n",
      "\n",
      "----------------------------------------------------------------------------------------------------\n",
      "input_prompt: \n",
      "Generate 5 questions and their responses with example code in Smalltalk language to identify,explain Code Commit message consistency checker. The level of complexity has to be extreme difficult.\n",
      "\n"
     ]
    },
    {
     "name": "stderr",
     "output_type": "stream",
     "text": [
      " 50%|█████     | 90/180 [1:21:04<1:19:24, 52.94s/it]"
     ]
    },
    {
     "name": "stdout",
     "output_type": "stream",
     "text": [
      "----------------------------------------------------------------------------------------------------\n",
      "####################################################################################################\n",
      "Time taken for a L3 task for a single language for a single difficulty level: 53.38536357879639\n",
      "input_prompt: \n",
      "Generate 5 questions and their responses with example code in Visual-basic language to identify,explain Writing a docstring. The level of complexity has to be high school student.\n",
      "\n",
      "----------------------------------------------------------------------------------------------------\n",
      "input_prompt: \n",
      "Generate 5 questions and their responses with example code in Dockerfile language to identify,explain Writing a docstring. The level of complexity has to be college student.\n",
      "\n",
      "----------------------------------------------------------------------------------------------------\n",
      "input_prompt: \n",
      "Generate 5 questions and their responses with example code in Jupyter-notebook language to identify,explain Writing a docstring. The level of complexity has to be extreme difficult.\n",
      "\n"
     ]
    },
    {
     "name": "stderr",
     "output_type": "stream",
     "text": [
      " 51%|█████     | 91/180 [1:21:47<1:14:05, 49.95s/it]"
     ]
    },
    {
     "name": "stdout",
     "output_type": "stream",
     "text": [
      "----------------------------------------------------------------------------------------------------\n",
      "####################################################################################################\n",
      "Time taken for a L3 task for a single language for a single difficulty level: 42.97696375846863\n",
      "input_prompt: \n",
      "Generate 5 questions and their responses with example code in Sparql language to identify,explain Extended documentation with examples. The level of complexity has to be high school student.\n",
      "\n",
      "----------------------------------------------------------------------------------------------------\n",
      "input_prompt: \n",
      "Generate 5 questions and their responses with example code in Verilog language to identify,explain Extended documentation with examples. The level of complexity has to be college student.\n",
      "\n",
      "----------------------------------------------------------------------------------------------------\n",
      "input_prompt: \n",
      "Generate 5 questions and their responses with example code in Systemverilog language to identify,explain Extended documentation with examples. The level of complexity has to be extreme difficult.\n",
      "\n"
     ]
    },
    {
     "name": "stderr",
     "output_type": "stream",
     "text": [
      " 51%|█████     | 92/180 [1:22:45<1:16:27, 52.14s/it]"
     ]
    },
    {
     "name": "stdout",
     "output_type": "stream",
     "text": [
      "----------------------------------------------------------------------------------------------------\n",
      "####################################################################################################\n",
      "Time taken for a L3 task for a single language for a single difficulty level: 57.24106287956238\n",
      "input_prompt: \n",
      "Generate 5 questions and their responses with example code in Haskell language to identify,explain API endpoint documentation. The level of complexity has to be high school student.\n",
      "\n",
      "----------------------------------------------------------------------------------------------------\n",
      "input_prompt: \n",
      "Generate 5 questions and their responses with example code in Pascal language to identify,explain API endpoint documentation. The level of complexity has to be college student.\n",
      "\n",
      "----------------------------------------------------------------------------------------------------\n",
      "input_prompt: \n",
      "Generate 5 questions and their responses with example code in C++ language to identify,explain API endpoint documentation. The level of complexity has to be extreme difficult.\n",
      "\n"
     ]
    },
    {
     "name": "stderr",
     "output_type": "stream",
     "text": [
      " 52%|█████▏    | 93/180 [1:23:51<1:21:50, 56.44s/it]"
     ]
    },
    {
     "name": "stdout",
     "output_type": "stream",
     "text": [
      "----------------------------------------------------------------------------------------------------\n",
      "####################################################################################################\n",
      "Time taken for a L3 task for a single language for a single difficulty level: 66.47876024246216\n",
      "input_prompt: \n",
      "Generate 5 questions and their responses with example code in Pascal language to identify,explain Function parameter details. The level of complexity has to be high school student.\n",
      "\n",
      "----------------------------------------------------------------------------------------------------\n",
      "input_prompt: \n",
      "Generate 5 questions and their responses with example code in Rmarkdown language to identify,explain Function parameter details. The level of complexity has to be college student.\n",
      "\n",
      "----------------------------------------------------------------------------------------------------\n",
      "input_prompt: \n",
      "Generate 5 questions and their responses with example code in Mathematica language to identify,explain Function parameter details. The level of complexity has to be extreme difficult.\n",
      "\n"
     ]
    },
    {
     "name": "stderr",
     "output_type": "stream",
     "text": [
      " 52%|█████▏    | 94/180 [1:24:44<1:19:32, 55.49s/it]"
     ]
    },
    {
     "name": "stdout",
     "output_type": "stream",
     "text": [
      "----------------------------------------------------------------------------------------------------\n",
      "####################################################################################################\n",
      "Time taken for a L3 task for a single language for a single difficulty level: 53.27491903305054\n",
      "input_prompt: \n",
      "Generate 5 questions and their responses with example code in Jupyter-notebook language to identify,explain Error handling documentation. The level of complexity has to be high school student.\n",
      "\n",
      "----------------------------------------------------------------------------------------------------\n",
      "input_prompt: \n",
      "Generate 5 questions and their responses with example code in Yaml language to identify,explain Error handling documentation. The level of complexity has to be college student.\n",
      "\n",
      "----------------------------------------------------------------------------------------------------\n",
      "input_prompt: \n",
      "Generate 5 questions and their responses with example code in Vue language to identify,explain Error handling documentation. The level of complexity has to be extreme difficult.\n",
      "\n"
     ]
    },
    {
     "name": "stderr",
     "output_type": "stream",
     "text": [
      " 53%|█████▎    | 95/180 [1:25:55<1:25:12, 60.15s/it]"
     ]
    },
    {
     "name": "stdout",
     "output_type": "stream",
     "text": [
      "----------------------------------------------------------------------------------------------------\n",
      "####################################################################################################\n",
      "Time taken for a L3 task for a single language for a single difficulty level: 71.03039121627808\n",
      "input_prompt: \n",
      "Generate 5 questions and their responses with example code in Yacc language to identify,explain Performance notes. The level of complexity has to be high school student.\n",
      "\n",
      "----------------------------------------------------------------------------------------------------\n",
      "input_prompt: \n",
      "Generate 5 questions and their responses with example code in Cmake language to identify,explain Performance notes. The level of complexity has to be college student.\n",
      "\n",
      "----------------------------------------------------------------------------------------------------\n",
      "input_prompt: \n",
      "Generate 5 questions and their responses with example code in Vue language to identify,explain Performance notes. The level of complexity has to be extreme difficult.\n",
      "\n"
     ]
    },
    {
     "name": "stderr",
     "output_type": "stream",
     "text": [
      " 53%|█████▎    | 96/180 [1:26:40<1:17:46, 55.55s/it]"
     ]
    },
    {
     "name": "stdout",
     "output_type": "stream",
     "text": [
      "----------------------------------------------------------------------------------------------------\n",
      "####################################################################################################\n",
      "Time taken for a L3 task for a single language for a single difficulty level: 44.806392192840576\n",
      "input_prompt: \n",
      "Generate 5 questions and their responses with example code in Scheme language to identify,explain Usage scenarios. The level of complexity has to be high school student.\n",
      "\n"
     ]
    }
   ],
   "source": [
    "import json\n",
    "import time\n",
    "from langchain import PromptTemplate\n",
    "import random\n",
    "from tqdm import tqdm\n",
    "\n",
    "levels=[\"high school student\",\"college student\",\"extreme difficult\"]\n",
    "per_concept_ques=5\n",
    "prompt_template=\"\"\"\n",
    "Generate {NoQ} questions and their responses with example code in {LANGUAGE} language to identify,explain {CONCEPT}. The level of complexity has to be {LEVEL}.\n",
    "\"\"\"\n",
    "prompt=PromptTemplate.from_template(prompt_template)\n",
    "\n",
    "def generate_questions_response_pairs(levels,languages,concepts,per_concept_ques):\n",
    "    dict_list=[]\n",
    "    for concept in tqdm(concepts):\n",
    "        t1=time.time()\n",
    "        for level in levels:\n",
    "            language=random.choice(languages)\n",
    "            language=language.capitalize()\n",
    "            input_prompt=prompt.format_prompt(CONCEPT=concept,NoQ=per_concept_ques,LANGUAGE=language,LEVEL=level).to_string()\n",
    "            print('input_prompt:',input_prompt)\n",
    "            response=query_qwen(input_prompt)\n",
    "            #print('Generated Complex Question :\\n',response)\n",
    "            dict1={'L3':concept,'Level':level,'Questions':response,'Language':language}\n",
    "            #print('dict1:',dict1)\n",
    "            print('-'*100)\n",
    "            dict_list.append(dict1)\n",
    "            with open(\"./output/results_qwen72b_multi_language.json\", \"w\") as f:\n",
    "                json.dump(dict_list, f)\n",
    "        t2=time.time()\n",
    "        print('#'*100)\n",
    "        print('Time taken for a L3 task for a single language for a single difficulty level:',t2-t1)\n",
    "\n",
    "generate_questions_response_pairs(levels,languages,L3_TASKS,per_concept_ques)"
   ]
  },
  {
   "cell_type": "code",
   "execution_count": null,
   "id": "8306c472-2826-4392-b0fc-a27c0b802ce6",
   "metadata": {},
   "outputs": [],
   "source": []
  }
 ],
 "metadata": {
  "kernelspec": {
   "display_name": "py10cuda117",
   "language": "python",
   "name": "py10cuda117"
  },
  "language_info": {
   "codemirror_mode": {
    "name": "ipython",
    "version": 3
   },
   "file_extension": ".py",
   "mimetype": "text/x-python",
   "name": "python",
   "nbconvert_exporter": "python",
   "pygments_lexer": "ipython3",
   "version": "3.10.13"
  }
 },
 "nbformat": 4,
 "nbformat_minor": 5
}
